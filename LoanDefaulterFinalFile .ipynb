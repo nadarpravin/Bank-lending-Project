{
 "cells": [
  {
   "cell_type": "code",
   "execution_count": 1,
   "metadata": {},
   "outputs": [],
   "source": [
    "#IMPORTING LIBRARIES\n",
    "import os\n",
    "import numpy as np\n",
    "import pandas as pd\n",
    "import matplotlib.pyplot as plt\n",
    "import seaborn as sns\n",
    "import warnings\n",
    "warnings.filterwarnings(\"ignore\")\n",
    "pd.set_option(\"display.max_rows\", None)\n",
    "pd.set_option(\"display.max_columns\", None)"
   ]
  },
  {
   "cell_type": "code",
   "execution_count": 2,
   "metadata": {},
   "outputs": [],
   "source": [
    "os.chdir('C:\\\\Users\\\\krishnan\\\\Desktop\\\\Capstone Project\\\\PythonProject-BankLending')"
   ]
  },
  {
   "cell_type": "code",
   "execution_count": 3,
   "metadata": {},
   "outputs": [],
   "source": [
    "#LOADING THE DATA & READING IT\n",
    "Loan_df=pd.read_table('XYZCorp_LendingData.txt')"
   ]
  },
  {
   "cell_type": "code",
   "execution_count": 4,
   "metadata": {},
   "outputs": [
    {
     "data": {
      "text/html": [
       "<div>\n",
       "<style scoped>\n",
       "    .dataframe tbody tr th:only-of-type {\n",
       "        vertical-align: middle;\n",
       "    }\n",
       "\n",
       "    .dataframe tbody tr th {\n",
       "        vertical-align: top;\n",
       "    }\n",
       "\n",
       "    .dataframe thead th {\n",
       "        text-align: right;\n",
       "    }\n",
       "</style>\n",
       "<table border=\"1\" class=\"dataframe\">\n",
       "  <thead>\n",
       "    <tr style=\"text-align: right;\">\n",
       "      <th></th>\n",
       "      <th>id</th>\n",
       "      <th>member_id</th>\n",
       "      <th>loan_amnt</th>\n",
       "      <th>funded_amnt</th>\n",
       "      <th>funded_amnt_inv</th>\n",
       "      <th>term</th>\n",
       "      <th>int_rate</th>\n",
       "      <th>installment</th>\n",
       "      <th>grade</th>\n",
       "      <th>sub_grade</th>\n",
       "      <th>emp_title</th>\n",
       "      <th>emp_length</th>\n",
       "      <th>home_ownership</th>\n",
       "      <th>annual_inc</th>\n",
       "      <th>verification_status</th>\n",
       "      <th>issue_d</th>\n",
       "      <th>pymnt_plan</th>\n",
       "      <th>desc</th>\n",
       "      <th>purpose</th>\n",
       "      <th>title</th>\n",
       "      <th>zip_code</th>\n",
       "      <th>addr_state</th>\n",
       "      <th>dti</th>\n",
       "      <th>delinq_2yrs</th>\n",
       "      <th>earliest_cr_line</th>\n",
       "      <th>inq_last_6mths</th>\n",
       "      <th>mths_since_last_delinq</th>\n",
       "      <th>mths_since_last_record</th>\n",
       "      <th>open_acc</th>\n",
       "      <th>pub_rec</th>\n",
       "      <th>revol_bal</th>\n",
       "      <th>revol_util</th>\n",
       "      <th>total_acc</th>\n",
       "      <th>initial_list_status</th>\n",
       "      <th>out_prncp</th>\n",
       "      <th>out_prncp_inv</th>\n",
       "      <th>total_pymnt</th>\n",
       "      <th>total_pymnt_inv</th>\n",
       "      <th>total_rec_prncp</th>\n",
       "      <th>total_rec_int</th>\n",
       "      <th>total_rec_late_fee</th>\n",
       "      <th>recoveries</th>\n",
       "      <th>collection_recovery_fee</th>\n",
       "      <th>last_pymnt_d</th>\n",
       "      <th>last_pymnt_amnt</th>\n",
       "      <th>next_pymnt_d</th>\n",
       "      <th>last_credit_pull_d</th>\n",
       "      <th>collections_12_mths_ex_med</th>\n",
       "      <th>mths_since_last_major_derog</th>\n",
       "      <th>policy_code</th>\n",
       "      <th>application_type</th>\n",
       "      <th>annual_inc_joint</th>\n",
       "      <th>dti_joint</th>\n",
       "      <th>verification_status_joint</th>\n",
       "      <th>acc_now_delinq</th>\n",
       "      <th>tot_coll_amt</th>\n",
       "      <th>tot_cur_bal</th>\n",
       "      <th>open_acc_6m</th>\n",
       "      <th>open_il_6m</th>\n",
       "      <th>open_il_12m</th>\n",
       "      <th>open_il_24m</th>\n",
       "      <th>mths_since_rcnt_il</th>\n",
       "      <th>total_bal_il</th>\n",
       "      <th>il_util</th>\n",
       "      <th>open_rv_12m</th>\n",
       "      <th>open_rv_24m</th>\n",
       "      <th>max_bal_bc</th>\n",
       "      <th>all_util</th>\n",
       "      <th>total_rev_hi_lim</th>\n",
       "      <th>inq_fi</th>\n",
       "      <th>total_cu_tl</th>\n",
       "      <th>inq_last_12m</th>\n",
       "      <th>default_ind</th>\n",
       "    </tr>\n",
       "  </thead>\n",
       "  <tbody>\n",
       "    <tr>\n",
       "      <th>0</th>\n",
       "      <td>1077501</td>\n",
       "      <td>1296599</td>\n",
       "      <td>5000.0</td>\n",
       "      <td>5000.0</td>\n",
       "      <td>4975.0</td>\n",
       "      <td>36 months</td>\n",
       "      <td>10.65</td>\n",
       "      <td>162.87</td>\n",
       "      <td>B</td>\n",
       "      <td>B2</td>\n",
       "      <td>NaN</td>\n",
       "      <td>10+ years</td>\n",
       "      <td>RENT</td>\n",
       "      <td>24000.0</td>\n",
       "      <td>Verified</td>\n",
       "      <td>Dec-2011</td>\n",
       "      <td>n</td>\n",
       "      <td>Borrower added on 12/22/11 &gt; I need to upgra...</td>\n",
       "      <td>credit_card</td>\n",
       "      <td>Computer</td>\n",
       "      <td>860xx</td>\n",
       "      <td>AZ</td>\n",
       "      <td>27.65</td>\n",
       "      <td>0.0</td>\n",
       "      <td>Jan-1985</td>\n",
       "      <td>1.0</td>\n",
       "      <td>NaN</td>\n",
       "      <td>NaN</td>\n",
       "      <td>3.0</td>\n",
       "      <td>0.0</td>\n",
       "      <td>13648.0</td>\n",
       "      <td>83.7</td>\n",
       "      <td>9.0</td>\n",
       "      <td>f</td>\n",
       "      <td>0.0</td>\n",
       "      <td>0.0</td>\n",
       "      <td>5861.071414</td>\n",
       "      <td>5831.78</td>\n",
       "      <td>5000.00</td>\n",
       "      <td>861.07</td>\n",
       "      <td>0.00</td>\n",
       "      <td>0.00</td>\n",
       "      <td>0.00</td>\n",
       "      <td>Jan-2015</td>\n",
       "      <td>171.62</td>\n",
       "      <td>NaN</td>\n",
       "      <td>Jan-2016</td>\n",
       "      <td>0.0</td>\n",
       "      <td>NaN</td>\n",
       "      <td>1.0</td>\n",
       "      <td>INDIVIDUAL</td>\n",
       "      <td>NaN</td>\n",
       "      <td>NaN</td>\n",
       "      <td>NaN</td>\n",
       "      <td>0.0</td>\n",
       "      <td>NaN</td>\n",
       "      <td>NaN</td>\n",
       "      <td>NaN</td>\n",
       "      <td>NaN</td>\n",
       "      <td>NaN</td>\n",
       "      <td>NaN</td>\n",
       "      <td>NaN</td>\n",
       "      <td>NaN</td>\n",
       "      <td>NaN</td>\n",
       "      <td>NaN</td>\n",
       "      <td>NaN</td>\n",
       "      <td>NaN</td>\n",
       "      <td>NaN</td>\n",
       "      <td>NaN</td>\n",
       "      <td>NaN</td>\n",
       "      <td>NaN</td>\n",
       "      <td>NaN</td>\n",
       "      <td>0</td>\n",
       "    </tr>\n",
       "    <tr>\n",
       "      <th>1</th>\n",
       "      <td>1077430</td>\n",
       "      <td>1314167</td>\n",
       "      <td>2500.0</td>\n",
       "      <td>2500.0</td>\n",
       "      <td>2500.0</td>\n",
       "      <td>60 months</td>\n",
       "      <td>15.27</td>\n",
       "      <td>59.83</td>\n",
       "      <td>C</td>\n",
       "      <td>C4</td>\n",
       "      <td>Ryder</td>\n",
       "      <td>&lt; 1 year</td>\n",
       "      <td>RENT</td>\n",
       "      <td>30000.0</td>\n",
       "      <td>Source Verified</td>\n",
       "      <td>Dec-2011</td>\n",
       "      <td>n</td>\n",
       "      <td>Borrower added on 12/22/11 &gt; I plan to use t...</td>\n",
       "      <td>car</td>\n",
       "      <td>bike</td>\n",
       "      <td>309xx</td>\n",
       "      <td>GA</td>\n",
       "      <td>1.00</td>\n",
       "      <td>0.0</td>\n",
       "      <td>Apr-1999</td>\n",
       "      <td>5.0</td>\n",
       "      <td>NaN</td>\n",
       "      <td>NaN</td>\n",
       "      <td>3.0</td>\n",
       "      <td>0.0</td>\n",
       "      <td>1687.0</td>\n",
       "      <td>9.4</td>\n",
       "      <td>4.0</td>\n",
       "      <td>f</td>\n",
       "      <td>0.0</td>\n",
       "      <td>0.0</td>\n",
       "      <td>1008.710000</td>\n",
       "      <td>1008.71</td>\n",
       "      <td>456.46</td>\n",
       "      <td>435.17</td>\n",
       "      <td>0.00</td>\n",
       "      <td>117.08</td>\n",
       "      <td>1.11</td>\n",
       "      <td>Apr-2013</td>\n",
       "      <td>119.66</td>\n",
       "      <td>NaN</td>\n",
       "      <td>Sep-2013</td>\n",
       "      <td>0.0</td>\n",
       "      <td>NaN</td>\n",
       "      <td>1.0</td>\n",
       "      <td>INDIVIDUAL</td>\n",
       "      <td>NaN</td>\n",
       "      <td>NaN</td>\n",
       "      <td>NaN</td>\n",
       "      <td>0.0</td>\n",
       "      <td>NaN</td>\n",
       "      <td>NaN</td>\n",
       "      <td>NaN</td>\n",
       "      <td>NaN</td>\n",
       "      <td>NaN</td>\n",
       "      <td>NaN</td>\n",
       "      <td>NaN</td>\n",
       "      <td>NaN</td>\n",
       "      <td>NaN</td>\n",
       "      <td>NaN</td>\n",
       "      <td>NaN</td>\n",
       "      <td>NaN</td>\n",
       "      <td>NaN</td>\n",
       "      <td>NaN</td>\n",
       "      <td>NaN</td>\n",
       "      <td>NaN</td>\n",
       "      <td>NaN</td>\n",
       "      <td>1</td>\n",
       "    </tr>\n",
       "    <tr>\n",
       "      <th>2</th>\n",
       "      <td>1077175</td>\n",
       "      <td>1313524</td>\n",
       "      <td>2400.0</td>\n",
       "      <td>2400.0</td>\n",
       "      <td>2400.0</td>\n",
       "      <td>36 months</td>\n",
       "      <td>15.96</td>\n",
       "      <td>84.33</td>\n",
       "      <td>C</td>\n",
       "      <td>C5</td>\n",
       "      <td>NaN</td>\n",
       "      <td>10+ years</td>\n",
       "      <td>RENT</td>\n",
       "      <td>12252.0</td>\n",
       "      <td>Not Verified</td>\n",
       "      <td>Dec-2011</td>\n",
       "      <td>n</td>\n",
       "      <td>NaN</td>\n",
       "      <td>small_business</td>\n",
       "      <td>real estate business</td>\n",
       "      <td>606xx</td>\n",
       "      <td>IL</td>\n",
       "      <td>8.72</td>\n",
       "      <td>0.0</td>\n",
       "      <td>Nov-2001</td>\n",
       "      <td>2.0</td>\n",
       "      <td>NaN</td>\n",
       "      <td>NaN</td>\n",
       "      <td>2.0</td>\n",
       "      <td>0.0</td>\n",
       "      <td>2956.0</td>\n",
       "      <td>98.5</td>\n",
       "      <td>10.0</td>\n",
       "      <td>f</td>\n",
       "      <td>0.0</td>\n",
       "      <td>0.0</td>\n",
       "      <td>3003.653644</td>\n",
       "      <td>3003.65</td>\n",
       "      <td>2400.00</td>\n",
       "      <td>603.65</td>\n",
       "      <td>0.00</td>\n",
       "      <td>0.00</td>\n",
       "      <td>0.00</td>\n",
       "      <td>Jun-2014</td>\n",
       "      <td>649.91</td>\n",
       "      <td>NaN</td>\n",
       "      <td>Jan-2016</td>\n",
       "      <td>0.0</td>\n",
       "      <td>NaN</td>\n",
       "      <td>1.0</td>\n",
       "      <td>INDIVIDUAL</td>\n",
       "      <td>NaN</td>\n",
       "      <td>NaN</td>\n",
       "      <td>NaN</td>\n",
       "      <td>0.0</td>\n",
       "      <td>NaN</td>\n",
       "      <td>NaN</td>\n",
       "      <td>NaN</td>\n",
       "      <td>NaN</td>\n",
       "      <td>NaN</td>\n",
       "      <td>NaN</td>\n",
       "      <td>NaN</td>\n",
       "      <td>NaN</td>\n",
       "      <td>NaN</td>\n",
       "      <td>NaN</td>\n",
       "      <td>NaN</td>\n",
       "      <td>NaN</td>\n",
       "      <td>NaN</td>\n",
       "      <td>NaN</td>\n",
       "      <td>NaN</td>\n",
       "      <td>NaN</td>\n",
       "      <td>NaN</td>\n",
       "      <td>0</td>\n",
       "    </tr>\n",
       "    <tr>\n",
       "      <th>3</th>\n",
       "      <td>1076863</td>\n",
       "      <td>1277178</td>\n",
       "      <td>10000.0</td>\n",
       "      <td>10000.0</td>\n",
       "      <td>10000.0</td>\n",
       "      <td>36 months</td>\n",
       "      <td>13.49</td>\n",
       "      <td>339.31</td>\n",
       "      <td>C</td>\n",
       "      <td>C1</td>\n",
       "      <td>AIR RESOURCES BOARD</td>\n",
       "      <td>10+ years</td>\n",
       "      <td>RENT</td>\n",
       "      <td>49200.0</td>\n",
       "      <td>Source Verified</td>\n",
       "      <td>Dec-2011</td>\n",
       "      <td>n</td>\n",
       "      <td>Borrower added on 12/21/11 &gt; to pay for prop...</td>\n",
       "      <td>other</td>\n",
       "      <td>personel</td>\n",
       "      <td>917xx</td>\n",
       "      <td>CA</td>\n",
       "      <td>20.00</td>\n",
       "      <td>0.0</td>\n",
       "      <td>Feb-1996</td>\n",
       "      <td>1.0</td>\n",
       "      <td>35.0</td>\n",
       "      <td>NaN</td>\n",
       "      <td>10.0</td>\n",
       "      <td>0.0</td>\n",
       "      <td>5598.0</td>\n",
       "      <td>21.0</td>\n",
       "      <td>37.0</td>\n",
       "      <td>f</td>\n",
       "      <td>0.0</td>\n",
       "      <td>0.0</td>\n",
       "      <td>12226.302212</td>\n",
       "      <td>12226.30</td>\n",
       "      <td>10000.00</td>\n",
       "      <td>2209.33</td>\n",
       "      <td>16.97</td>\n",
       "      <td>0.00</td>\n",
       "      <td>0.00</td>\n",
       "      <td>Jan-2015</td>\n",
       "      <td>357.48</td>\n",
       "      <td>NaN</td>\n",
       "      <td>Jan-2015</td>\n",
       "      <td>0.0</td>\n",
       "      <td>NaN</td>\n",
       "      <td>1.0</td>\n",
       "      <td>INDIVIDUAL</td>\n",
       "      <td>NaN</td>\n",
       "      <td>NaN</td>\n",
       "      <td>NaN</td>\n",
       "      <td>0.0</td>\n",
       "      <td>NaN</td>\n",
       "      <td>NaN</td>\n",
       "      <td>NaN</td>\n",
       "      <td>NaN</td>\n",
       "      <td>NaN</td>\n",
       "      <td>NaN</td>\n",
       "      <td>NaN</td>\n",
       "      <td>NaN</td>\n",
       "      <td>NaN</td>\n",
       "      <td>NaN</td>\n",
       "      <td>NaN</td>\n",
       "      <td>NaN</td>\n",
       "      <td>NaN</td>\n",
       "      <td>NaN</td>\n",
       "      <td>NaN</td>\n",
       "      <td>NaN</td>\n",
       "      <td>NaN</td>\n",
       "      <td>0</td>\n",
       "    </tr>\n",
       "    <tr>\n",
       "      <th>4</th>\n",
       "      <td>1075358</td>\n",
       "      <td>1311748</td>\n",
       "      <td>3000.0</td>\n",
       "      <td>3000.0</td>\n",
       "      <td>3000.0</td>\n",
       "      <td>60 months</td>\n",
       "      <td>12.69</td>\n",
       "      <td>67.79</td>\n",
       "      <td>B</td>\n",
       "      <td>B5</td>\n",
       "      <td>University Medical Group</td>\n",
       "      <td>1 year</td>\n",
       "      <td>RENT</td>\n",
       "      <td>80000.0</td>\n",
       "      <td>Source Verified</td>\n",
       "      <td>Dec-2011</td>\n",
       "      <td>n</td>\n",
       "      <td>Borrower added on 12/21/11 &gt; I plan on combi...</td>\n",
       "      <td>other</td>\n",
       "      <td>Personal</td>\n",
       "      <td>972xx</td>\n",
       "      <td>OR</td>\n",
       "      <td>17.94</td>\n",
       "      <td>0.0</td>\n",
       "      <td>Jan-1996</td>\n",
       "      <td>0.0</td>\n",
       "      <td>38.0</td>\n",
       "      <td>NaN</td>\n",
       "      <td>15.0</td>\n",
       "      <td>0.0</td>\n",
       "      <td>27783.0</td>\n",
       "      <td>53.9</td>\n",
       "      <td>38.0</td>\n",
       "      <td>f</td>\n",
       "      <td>766.9</td>\n",
       "      <td>766.9</td>\n",
       "      <td>3242.170000</td>\n",
       "      <td>3242.17</td>\n",
       "      <td>2233.10</td>\n",
       "      <td>1009.07</td>\n",
       "      <td>0.00</td>\n",
       "      <td>0.00</td>\n",
       "      <td>0.00</td>\n",
       "      <td>Jan-2016</td>\n",
       "      <td>67.79</td>\n",
       "      <td>Feb-2016</td>\n",
       "      <td>Jan-2016</td>\n",
       "      <td>0.0</td>\n",
       "      <td>NaN</td>\n",
       "      <td>1.0</td>\n",
       "      <td>INDIVIDUAL</td>\n",
       "      <td>NaN</td>\n",
       "      <td>NaN</td>\n",
       "      <td>NaN</td>\n",
       "      <td>0.0</td>\n",
       "      <td>NaN</td>\n",
       "      <td>NaN</td>\n",
       "      <td>NaN</td>\n",
       "      <td>NaN</td>\n",
       "      <td>NaN</td>\n",
       "      <td>NaN</td>\n",
       "      <td>NaN</td>\n",
       "      <td>NaN</td>\n",
       "      <td>NaN</td>\n",
       "      <td>NaN</td>\n",
       "      <td>NaN</td>\n",
       "      <td>NaN</td>\n",
       "      <td>NaN</td>\n",
       "      <td>NaN</td>\n",
       "      <td>NaN</td>\n",
       "      <td>NaN</td>\n",
       "      <td>NaN</td>\n",
       "      <td>0</td>\n",
       "    </tr>\n",
       "  </tbody>\n",
       "</table>\n",
       "</div>"
      ],
      "text/plain": [
       "        id  member_id  loan_amnt  funded_amnt  funded_amnt_inv        term  \\\n",
       "0  1077501    1296599     5000.0       5000.0           4975.0   36 months   \n",
       "1  1077430    1314167     2500.0       2500.0           2500.0   60 months   \n",
       "2  1077175    1313524     2400.0       2400.0           2400.0   36 months   \n",
       "3  1076863    1277178    10000.0      10000.0          10000.0   36 months   \n",
       "4  1075358    1311748     3000.0       3000.0           3000.0   60 months   \n",
       "\n",
       "   int_rate  installment grade sub_grade                 emp_title emp_length  \\\n",
       "0     10.65       162.87     B        B2                       NaN  10+ years   \n",
       "1     15.27        59.83     C        C4                     Ryder   < 1 year   \n",
       "2     15.96        84.33     C        C5                       NaN  10+ years   \n",
       "3     13.49       339.31     C        C1       AIR RESOURCES BOARD  10+ years   \n",
       "4     12.69        67.79     B        B5  University Medical Group     1 year   \n",
       "\n",
       "  home_ownership  annual_inc verification_status   issue_d pymnt_plan  \\\n",
       "0           RENT     24000.0            Verified  Dec-2011          n   \n",
       "1           RENT     30000.0     Source Verified  Dec-2011          n   \n",
       "2           RENT     12252.0        Not Verified  Dec-2011          n   \n",
       "3           RENT     49200.0     Source Verified  Dec-2011          n   \n",
       "4           RENT     80000.0     Source Verified  Dec-2011          n   \n",
       "\n",
       "                                                desc         purpose  \\\n",
       "0    Borrower added on 12/22/11 > I need to upgra...     credit_card   \n",
       "1    Borrower added on 12/22/11 > I plan to use t...             car   \n",
       "2                                                NaN  small_business   \n",
       "3    Borrower added on 12/21/11 > to pay for prop...           other   \n",
       "4    Borrower added on 12/21/11 > I plan on combi...           other   \n",
       "\n",
       "                  title zip_code addr_state    dti  delinq_2yrs  \\\n",
       "0              Computer    860xx         AZ  27.65          0.0   \n",
       "1                  bike    309xx         GA   1.00          0.0   \n",
       "2  real estate business    606xx         IL   8.72          0.0   \n",
       "3              personel    917xx         CA  20.00          0.0   \n",
       "4              Personal    972xx         OR  17.94          0.0   \n",
       "\n",
       "  earliest_cr_line  inq_last_6mths  mths_since_last_delinq  \\\n",
       "0         Jan-1985             1.0                     NaN   \n",
       "1         Apr-1999             5.0                     NaN   \n",
       "2         Nov-2001             2.0                     NaN   \n",
       "3         Feb-1996             1.0                    35.0   \n",
       "4         Jan-1996             0.0                    38.0   \n",
       "\n",
       "   mths_since_last_record  open_acc  pub_rec  revol_bal  revol_util  \\\n",
       "0                     NaN       3.0      0.0    13648.0        83.7   \n",
       "1                     NaN       3.0      0.0     1687.0         9.4   \n",
       "2                     NaN       2.0      0.0     2956.0        98.5   \n",
       "3                     NaN      10.0      0.0     5598.0        21.0   \n",
       "4                     NaN      15.0      0.0    27783.0        53.9   \n",
       "\n",
       "   total_acc initial_list_status  out_prncp  out_prncp_inv   total_pymnt  \\\n",
       "0        9.0                   f        0.0            0.0   5861.071414   \n",
       "1        4.0                   f        0.0            0.0   1008.710000   \n",
       "2       10.0                   f        0.0            0.0   3003.653644   \n",
       "3       37.0                   f        0.0            0.0  12226.302212   \n",
       "4       38.0                   f      766.9          766.9   3242.170000   \n",
       "\n",
       "   total_pymnt_inv  total_rec_prncp  total_rec_int  total_rec_late_fee  \\\n",
       "0          5831.78          5000.00         861.07                0.00   \n",
       "1          1008.71           456.46         435.17                0.00   \n",
       "2          3003.65          2400.00         603.65                0.00   \n",
       "3         12226.30         10000.00        2209.33               16.97   \n",
       "4          3242.17          2233.10        1009.07                0.00   \n",
       "\n",
       "   recoveries  collection_recovery_fee last_pymnt_d  last_pymnt_amnt  \\\n",
       "0        0.00                     0.00     Jan-2015           171.62   \n",
       "1      117.08                     1.11     Apr-2013           119.66   \n",
       "2        0.00                     0.00     Jun-2014           649.91   \n",
       "3        0.00                     0.00     Jan-2015           357.48   \n",
       "4        0.00                     0.00     Jan-2016            67.79   \n",
       "\n",
       "  next_pymnt_d last_credit_pull_d  collections_12_mths_ex_med  \\\n",
       "0          NaN           Jan-2016                         0.0   \n",
       "1          NaN           Sep-2013                         0.0   \n",
       "2          NaN           Jan-2016                         0.0   \n",
       "3          NaN           Jan-2015                         0.0   \n",
       "4     Feb-2016           Jan-2016                         0.0   \n",
       "\n",
       "   mths_since_last_major_derog  policy_code application_type  \\\n",
       "0                          NaN          1.0       INDIVIDUAL   \n",
       "1                          NaN          1.0       INDIVIDUAL   \n",
       "2                          NaN          1.0       INDIVIDUAL   \n",
       "3                          NaN          1.0       INDIVIDUAL   \n",
       "4                          NaN          1.0       INDIVIDUAL   \n",
       "\n",
       "   annual_inc_joint  dti_joint verification_status_joint  acc_now_delinq  \\\n",
       "0               NaN        NaN                       NaN             0.0   \n",
       "1               NaN        NaN                       NaN             0.0   \n",
       "2               NaN        NaN                       NaN             0.0   \n",
       "3               NaN        NaN                       NaN             0.0   \n",
       "4               NaN        NaN                       NaN             0.0   \n",
       "\n",
       "   tot_coll_amt  tot_cur_bal  open_acc_6m  open_il_6m  open_il_12m  \\\n",
       "0           NaN          NaN          NaN         NaN          NaN   \n",
       "1           NaN          NaN          NaN         NaN          NaN   \n",
       "2           NaN          NaN          NaN         NaN          NaN   \n",
       "3           NaN          NaN          NaN         NaN          NaN   \n",
       "4           NaN          NaN          NaN         NaN          NaN   \n",
       "\n",
       "   open_il_24m  mths_since_rcnt_il  total_bal_il  il_util  open_rv_12m  \\\n",
       "0          NaN                 NaN           NaN      NaN          NaN   \n",
       "1          NaN                 NaN           NaN      NaN          NaN   \n",
       "2          NaN                 NaN           NaN      NaN          NaN   \n",
       "3          NaN                 NaN           NaN      NaN          NaN   \n",
       "4          NaN                 NaN           NaN      NaN          NaN   \n",
       "\n",
       "   open_rv_24m  max_bal_bc  all_util  total_rev_hi_lim  inq_fi  total_cu_tl  \\\n",
       "0          NaN         NaN       NaN               NaN     NaN          NaN   \n",
       "1          NaN         NaN       NaN               NaN     NaN          NaN   \n",
       "2          NaN         NaN       NaN               NaN     NaN          NaN   \n",
       "3          NaN         NaN       NaN               NaN     NaN          NaN   \n",
       "4          NaN         NaN       NaN               NaN     NaN          NaN   \n",
       "\n",
       "   inq_last_12m  default_ind  \n",
       "0           NaN            0  \n",
       "1           NaN            1  \n",
       "2           NaN            0  \n",
       "3           NaN            0  \n",
       "4           NaN            0  "
      ]
     },
     "execution_count": 4,
     "metadata": {},
     "output_type": "execute_result"
    }
   ],
   "source": [
    "Loan_df.head()"
   ]
  },
  {
   "cell_type": "code",
   "execution_count": 5,
   "metadata": {},
   "outputs": [
    {
     "data": {
      "text/plain": [
       "(855969, 73)"
      ]
     },
     "execution_count": 5,
     "metadata": {},
     "output_type": "execute_result"
    }
   ],
   "source": [
    "Loan_df.shape"
   ]
  },
  {
   "cell_type": "code",
   "execution_count": 6,
   "metadata": {},
   "outputs": [
    {
     "data": {
      "text/html": [
       "<div>\n",
       "<style scoped>\n",
       "    .dataframe tbody tr th:only-of-type {\n",
       "        vertical-align: middle;\n",
       "    }\n",
       "\n",
       "    .dataframe tbody tr th {\n",
       "        vertical-align: top;\n",
       "    }\n",
       "\n",
       "    .dataframe thead th {\n",
       "        text-align: right;\n",
       "    }\n",
       "</style>\n",
       "<table border=\"1\" class=\"dataframe\">\n",
       "  <thead>\n",
       "    <tr style=\"text-align: right;\">\n",
       "      <th></th>\n",
       "      <th>id</th>\n",
       "      <th>member_id</th>\n",
       "      <th>loan_amnt</th>\n",
       "      <th>funded_amnt</th>\n",
       "      <th>funded_amnt_inv</th>\n",
       "      <th>term</th>\n",
       "      <th>int_rate</th>\n",
       "      <th>installment</th>\n",
       "      <th>grade</th>\n",
       "      <th>sub_grade</th>\n",
       "      <th>emp_title</th>\n",
       "      <th>emp_length</th>\n",
       "      <th>home_ownership</th>\n",
       "      <th>annual_inc</th>\n",
       "      <th>verification_status</th>\n",
       "      <th>issue_d</th>\n",
       "      <th>pymnt_plan</th>\n",
       "      <th>desc</th>\n",
       "      <th>purpose</th>\n",
       "      <th>title</th>\n",
       "      <th>zip_code</th>\n",
       "      <th>addr_state</th>\n",
       "      <th>dti</th>\n",
       "      <th>delinq_2yrs</th>\n",
       "      <th>earliest_cr_line</th>\n",
       "      <th>inq_last_6mths</th>\n",
       "      <th>mths_since_last_delinq</th>\n",
       "      <th>mths_since_last_record</th>\n",
       "      <th>open_acc</th>\n",
       "      <th>pub_rec</th>\n",
       "      <th>revol_bal</th>\n",
       "      <th>revol_util</th>\n",
       "      <th>total_acc</th>\n",
       "      <th>initial_list_status</th>\n",
       "      <th>out_prncp</th>\n",
       "      <th>out_prncp_inv</th>\n",
       "      <th>total_pymnt</th>\n",
       "      <th>total_pymnt_inv</th>\n",
       "      <th>total_rec_prncp</th>\n",
       "      <th>total_rec_int</th>\n",
       "      <th>total_rec_late_fee</th>\n",
       "      <th>recoveries</th>\n",
       "      <th>collection_recovery_fee</th>\n",
       "      <th>last_pymnt_d</th>\n",
       "      <th>last_pymnt_amnt</th>\n",
       "      <th>next_pymnt_d</th>\n",
       "      <th>last_credit_pull_d</th>\n",
       "      <th>collections_12_mths_ex_med</th>\n",
       "      <th>mths_since_last_major_derog</th>\n",
       "      <th>policy_code</th>\n",
       "      <th>application_type</th>\n",
       "      <th>annual_inc_joint</th>\n",
       "      <th>dti_joint</th>\n",
       "      <th>verification_status_joint</th>\n",
       "      <th>acc_now_delinq</th>\n",
       "      <th>tot_coll_amt</th>\n",
       "      <th>tot_cur_bal</th>\n",
       "      <th>open_acc_6m</th>\n",
       "      <th>open_il_6m</th>\n",
       "      <th>open_il_12m</th>\n",
       "      <th>open_il_24m</th>\n",
       "      <th>mths_since_rcnt_il</th>\n",
       "      <th>total_bal_il</th>\n",
       "      <th>il_util</th>\n",
       "      <th>open_rv_12m</th>\n",
       "      <th>open_rv_24m</th>\n",
       "      <th>max_bal_bc</th>\n",
       "      <th>all_util</th>\n",
       "      <th>total_rev_hi_lim</th>\n",
       "      <th>inq_fi</th>\n",
       "      <th>total_cu_tl</th>\n",
       "      <th>inq_last_12m</th>\n",
       "      <th>default_ind</th>\n",
       "    </tr>\n",
       "  </thead>\n",
       "  <tbody>\n",
       "    <tr>\n",
       "      <th>count</th>\n",
       "      <td>8.559690e+05</td>\n",
       "      <td>8.559690e+05</td>\n",
       "      <td>855969.000000</td>\n",
       "      <td>855969.000000</td>\n",
       "      <td>855969.000000</td>\n",
       "      <td>855969</td>\n",
       "      <td>855969.000000</td>\n",
       "      <td>855969.000000</td>\n",
       "      <td>855969</td>\n",
       "      <td>855969</td>\n",
       "      <td>806526</td>\n",
       "      <td>812908</td>\n",
       "      <td>855969</td>\n",
       "      <td>8.559690e+05</td>\n",
       "      <td>855969</td>\n",
       "      <td>855969</td>\n",
       "      <td>855969</td>\n",
       "      <td>121812</td>\n",
       "      <td>855969</td>\n",
       "      <td>855936</td>\n",
       "      <td>855969</td>\n",
       "      <td>855969</td>\n",
       "      <td>855969.000000</td>\n",
       "      <td>855969.000000</td>\n",
       "      <td>855969</td>\n",
       "      <td>855969.000000</td>\n",
       "      <td>416157.000000</td>\n",
       "      <td>131184.000000</td>\n",
       "      <td>855969.000000</td>\n",
       "      <td>855969.000000</td>\n",
       "      <td>8.559690e+05</td>\n",
       "      <td>855523.000000</td>\n",
       "      <td>855969.000000</td>\n",
       "      <td>855969</td>\n",
       "      <td>855969.000000</td>\n",
       "      <td>855969.000000</td>\n",
       "      <td>855969.000000</td>\n",
       "      <td>855969.00000</td>\n",
       "      <td>855969.000000</td>\n",
       "      <td>855969.000000</td>\n",
       "      <td>855969.000000</td>\n",
       "      <td>855969.000000</td>\n",
       "      <td>855969.000000</td>\n",
       "      <td>847107</td>\n",
       "      <td>855969.000000</td>\n",
       "      <td>602998</td>\n",
       "      <td>855919</td>\n",
       "      <td>855913.000000</td>\n",
       "      <td>213139.000000</td>\n",
       "      <td>855969.0</td>\n",
       "      <td>855969</td>\n",
       "      <td>442.000000</td>\n",
       "      <td>440.000000</td>\n",
       "      <td>442</td>\n",
       "      <td>855969.000000</td>\n",
       "      <td>7.886560e+05</td>\n",
       "      <td>7.886560e+05</td>\n",
       "      <td>13288.000000</td>\n",
       "      <td>13288.000000</td>\n",
       "      <td>13288.000000</td>\n",
       "      <td>13288.000000</td>\n",
       "      <td>12934.000000</td>\n",
       "      <td>13288.000000</td>\n",
       "      <td>11609.000000</td>\n",
       "      <td>13288.000000</td>\n",
       "      <td>13288.000000</td>\n",
       "      <td>13288.000000</td>\n",
       "      <td>13288.000000</td>\n",
       "      <td>7.886560e+05</td>\n",
       "      <td>13288.000000</td>\n",
       "      <td>13288.000000</td>\n",
       "      <td>13288.000000</td>\n",
       "      <td>855969.000000</td>\n",
       "    </tr>\n",
       "    <tr>\n",
       "      <th>unique</th>\n",
       "      <td>NaN</td>\n",
       "      <td>NaN</td>\n",
       "      <td>NaN</td>\n",
       "      <td>NaN</td>\n",
       "      <td>NaN</td>\n",
       "      <td>2</td>\n",
       "      <td>NaN</td>\n",
       "      <td>NaN</td>\n",
       "      <td>7</td>\n",
       "      <td>35</td>\n",
       "      <td>290912</td>\n",
       "      <td>11</td>\n",
       "      <td>6</td>\n",
       "      <td>NaN</td>\n",
       "      <td>3</td>\n",
       "      <td>103</td>\n",
       "      <td>2</td>\n",
       "      <td>120335</td>\n",
       "      <td>14</td>\n",
       "      <td>60991</td>\n",
       "      <td>931</td>\n",
       "      <td>51</td>\n",
       "      <td>NaN</td>\n",
       "      <td>NaN</td>\n",
       "      <td>697</td>\n",
       "      <td>NaN</td>\n",
       "      <td>NaN</td>\n",
       "      <td>NaN</td>\n",
       "      <td>NaN</td>\n",
       "      <td>NaN</td>\n",
       "      <td>NaN</td>\n",
       "      <td>NaN</td>\n",
       "      <td>NaN</td>\n",
       "      <td>2</td>\n",
       "      <td>NaN</td>\n",
       "      <td>NaN</td>\n",
       "      <td>NaN</td>\n",
       "      <td>NaN</td>\n",
       "      <td>NaN</td>\n",
       "      <td>NaN</td>\n",
       "      <td>NaN</td>\n",
       "      <td>NaN</td>\n",
       "      <td>NaN</td>\n",
       "      <td>97</td>\n",
       "      <td>NaN</td>\n",
       "      <td>3</td>\n",
       "      <td>102</td>\n",
       "      <td>NaN</td>\n",
       "      <td>NaN</td>\n",
       "      <td>NaN</td>\n",
       "      <td>2</td>\n",
       "      <td>NaN</td>\n",
       "      <td>NaN</td>\n",
       "      <td>3</td>\n",
       "      <td>NaN</td>\n",
       "      <td>NaN</td>\n",
       "      <td>NaN</td>\n",
       "      <td>NaN</td>\n",
       "      <td>NaN</td>\n",
       "      <td>NaN</td>\n",
       "      <td>NaN</td>\n",
       "      <td>NaN</td>\n",
       "      <td>NaN</td>\n",
       "      <td>NaN</td>\n",
       "      <td>NaN</td>\n",
       "      <td>NaN</td>\n",
       "      <td>NaN</td>\n",
       "      <td>NaN</td>\n",
       "      <td>NaN</td>\n",
       "      <td>NaN</td>\n",
       "      <td>NaN</td>\n",
       "      <td>NaN</td>\n",
       "      <td>NaN</td>\n",
       "    </tr>\n",
       "    <tr>\n",
       "      <th>top</th>\n",
       "      <td>NaN</td>\n",
       "      <td>NaN</td>\n",
       "      <td>NaN</td>\n",
       "      <td>NaN</td>\n",
       "      <td>NaN</td>\n",
       "      <td>36 months</td>\n",
       "      <td>NaN</td>\n",
       "      <td>NaN</td>\n",
       "      <td>B</td>\n",
       "      <td>B3</td>\n",
       "      <td>Teacher</td>\n",
       "      <td>10+ years</td>\n",
       "      <td>MORTGAGE</td>\n",
       "      <td>NaN</td>\n",
       "      <td>Source Verified</td>\n",
       "      <td>Oct-2015</td>\n",
       "      <td>n</td>\n",
       "      <td></td>\n",
       "      <td>debt_consolidation</td>\n",
       "      <td>Debt consolidation</td>\n",
       "      <td>945xx</td>\n",
       "      <td>CA</td>\n",
       "      <td>NaN</td>\n",
       "      <td>NaN</td>\n",
       "      <td>Aug-2001</td>\n",
       "      <td>NaN</td>\n",
       "      <td>NaN</td>\n",
       "      <td>NaN</td>\n",
       "      <td>NaN</td>\n",
       "      <td>NaN</td>\n",
       "      <td>NaN</td>\n",
       "      <td>NaN</td>\n",
       "      <td>NaN</td>\n",
       "      <td>f</td>\n",
       "      <td>NaN</td>\n",
       "      <td>NaN</td>\n",
       "      <td>NaN</td>\n",
       "      <td>NaN</td>\n",
       "      <td>NaN</td>\n",
       "      <td>NaN</td>\n",
       "      <td>NaN</td>\n",
       "      <td>NaN</td>\n",
       "      <td>NaN</td>\n",
       "      <td>Jan-2016</td>\n",
       "      <td>NaN</td>\n",
       "      <td>Feb-2016</td>\n",
       "      <td>Jan-2016</td>\n",
       "      <td>NaN</td>\n",
       "      <td>NaN</td>\n",
       "      <td>NaN</td>\n",
       "      <td>INDIVIDUAL</td>\n",
       "      <td>NaN</td>\n",
       "      <td>NaN</td>\n",
       "      <td>Not Verified</td>\n",
       "      <td>NaN</td>\n",
       "      <td>NaN</td>\n",
       "      <td>NaN</td>\n",
       "      <td>NaN</td>\n",
       "      <td>NaN</td>\n",
       "      <td>NaN</td>\n",
       "      <td>NaN</td>\n",
       "      <td>NaN</td>\n",
       "      <td>NaN</td>\n",
       "      <td>NaN</td>\n",
       "      <td>NaN</td>\n",
       "      <td>NaN</td>\n",
       "      <td>NaN</td>\n",
       "      <td>NaN</td>\n",
       "      <td>NaN</td>\n",
       "      <td>NaN</td>\n",
       "      <td>NaN</td>\n",
       "      <td>NaN</td>\n",
       "      <td>NaN</td>\n",
       "    </tr>\n",
       "    <tr>\n",
       "      <th>freq</th>\n",
       "      <td>NaN</td>\n",
       "      <td>NaN</td>\n",
       "      <td>NaN</td>\n",
       "      <td>NaN</td>\n",
       "      <td>NaN</td>\n",
       "      <td>600221</td>\n",
       "      <td>NaN</td>\n",
       "      <td>NaN</td>\n",
       "      <td>247998</td>\n",
       "      <td>54958</td>\n",
       "      <td>12965</td>\n",
       "      <td>282090</td>\n",
       "      <td>429106</td>\n",
       "      <td>NaN</td>\n",
       "      <td>318178</td>\n",
       "      <td>48212</td>\n",
       "      <td>855964</td>\n",
       "      <td>231</td>\n",
       "      <td>505392</td>\n",
       "      <td>398089</td>\n",
       "      <td>9466</td>\n",
       "      <td>125172</td>\n",
       "      <td>NaN</td>\n",
       "      <td>NaN</td>\n",
       "      <td>6433</td>\n",
       "      <td>NaN</td>\n",
       "      <td>NaN</td>\n",
       "      <td>NaN</td>\n",
       "      <td>NaN</td>\n",
       "      <td>NaN</td>\n",
       "      <td>NaN</td>\n",
       "      <td>NaN</td>\n",
       "      <td>NaN</td>\n",
       "      <td>442555</td>\n",
       "      <td>NaN</td>\n",
       "      <td>NaN</td>\n",
       "      <td>NaN</td>\n",
       "      <td>NaN</td>\n",
       "      <td>NaN</td>\n",
       "      <td>NaN</td>\n",
       "      <td>NaN</td>\n",
       "      <td>NaN</td>\n",
       "      <td>NaN</td>\n",
       "      <td>467510</td>\n",
       "      <td>NaN</td>\n",
       "      <td>534094</td>\n",
       "      <td>701687</td>\n",
       "      <td>NaN</td>\n",
       "      <td>NaN</td>\n",
       "      <td>NaN</td>\n",
       "      <td>855527</td>\n",
       "      <td>NaN</td>\n",
       "      <td>NaN</td>\n",
       "      <td>252</td>\n",
       "      <td>NaN</td>\n",
       "      <td>NaN</td>\n",
       "      <td>NaN</td>\n",
       "      <td>NaN</td>\n",
       "      <td>NaN</td>\n",
       "      <td>NaN</td>\n",
       "      <td>NaN</td>\n",
       "      <td>NaN</td>\n",
       "      <td>NaN</td>\n",
       "      <td>NaN</td>\n",
       "      <td>NaN</td>\n",
       "      <td>NaN</td>\n",
       "      <td>NaN</td>\n",
       "      <td>NaN</td>\n",
       "      <td>NaN</td>\n",
       "      <td>NaN</td>\n",
       "      <td>NaN</td>\n",
       "      <td>NaN</td>\n",
       "      <td>NaN</td>\n",
       "    </tr>\n",
       "    <tr>\n",
       "      <th>mean</th>\n",
       "      <td>3.224073e+07</td>\n",
       "      <td>3.476269e+07</td>\n",
       "      <td>14745.571335</td>\n",
       "      <td>14732.378305</td>\n",
       "      <td>14700.061226</td>\n",
       "      <td>NaN</td>\n",
       "      <td>13.192320</td>\n",
       "      <td>436.238072</td>\n",
       "      <td>NaN</td>\n",
       "      <td>NaN</td>\n",
       "      <td>NaN</td>\n",
       "      <td>NaN</td>\n",
       "      <td>NaN</td>\n",
       "      <td>7.507119e+04</td>\n",
       "      <td>NaN</td>\n",
       "      <td>NaN</td>\n",
       "      <td>NaN</td>\n",
       "      <td>NaN</td>\n",
       "      <td>NaN</td>\n",
       "      <td>NaN</td>\n",
       "      <td>NaN</td>\n",
       "      <td>NaN</td>\n",
       "      <td>18.122165</td>\n",
       "      <td>0.311621</td>\n",
       "      <td>NaN</td>\n",
       "      <td>0.680915</td>\n",
       "      <td>34.149943</td>\n",
       "      <td>70.463959</td>\n",
       "      <td>11.542447</td>\n",
       "      <td>0.194537</td>\n",
       "      <td>1.691053e+04</td>\n",
       "      <td>55.019405</td>\n",
       "      <td>25.269269</td>\n",
       "      <td>NaN</td>\n",
       "      <td>8284.830230</td>\n",
       "      <td>8281.449347</td>\n",
       "      <td>7653.296336</td>\n",
       "      <td>7622.22052</td>\n",
       "      <td>5850.841088</td>\n",
       "      <td>1755.046221</td>\n",
       "      <td>0.319530</td>\n",
       "      <td>47.089499</td>\n",
       "      <td>4.951227</td>\n",
       "      <td>NaN</td>\n",
       "      <td>2225.985295</td>\n",
       "      <td>NaN</td>\n",
       "      <td>NaN</td>\n",
       "      <td>0.014230</td>\n",
       "      <td>44.101450</td>\n",
       "      <td>1.0</td>\n",
       "      <td>NaN</td>\n",
       "      <td>107412.163982</td>\n",
       "      <td>18.318477</td>\n",
       "      <td>NaN</td>\n",
       "      <td>0.004944</td>\n",
       "      <td>2.254129e+02</td>\n",
       "      <td>1.397662e+05</td>\n",
       "      <td>1.072998</td>\n",
       "      <td>2.945665</td>\n",
       "      <td>0.749323</td>\n",
       "      <td>1.666767</td>\n",
       "      <td>20.833153</td>\n",
       "      <td>36511.541391</td>\n",
       "      <td>71.486993</td>\n",
       "      <td>1.354305</td>\n",
       "      <td>2.945515</td>\n",
       "      <td>5840.443332</td>\n",
       "      <td>61.024526</td>\n",
       "      <td>3.216357e+04</td>\n",
       "      <td>0.947772</td>\n",
       "      <td>1.524232</td>\n",
       "      <td>1.841963</td>\n",
       "      <td>0.054286</td>\n",
       "    </tr>\n",
       "    <tr>\n",
       "      <th>std</th>\n",
       "      <td>2.271969e+07</td>\n",
       "      <td>2.399418e+07</td>\n",
       "      <td>8425.340005</td>\n",
       "      <td>8419.471653</td>\n",
       "      <td>8425.805478</td>\n",
       "      <td>NaN</td>\n",
       "      <td>4.368365</td>\n",
       "      <td>243.726876</td>\n",
       "      <td>NaN</td>\n",
       "      <td>NaN</td>\n",
       "      <td>NaN</td>\n",
       "      <td>NaN</td>\n",
       "      <td>NaN</td>\n",
       "      <td>6.426447e+04</td>\n",
       "      <td>NaN</td>\n",
       "      <td>NaN</td>\n",
       "      <td>NaN</td>\n",
       "      <td>NaN</td>\n",
       "      <td>NaN</td>\n",
       "      <td>NaN</td>\n",
       "      <td>NaN</td>\n",
       "      <td>NaN</td>\n",
       "      <td>17.423629</td>\n",
       "      <td>0.857189</td>\n",
       "      <td>NaN</td>\n",
       "      <td>0.964033</td>\n",
       "      <td>21.868500</td>\n",
       "      <td>27.827120</td>\n",
       "      <td>5.308094</td>\n",
       "      <td>0.581585</td>\n",
       "      <td>2.222374e+04</td>\n",
       "      <td>23.811585</td>\n",
       "      <td>11.818841</td>\n",
       "      <td>NaN</td>\n",
       "      <td>8461.946669</td>\n",
       "      <td>8458.496422</td>\n",
       "      <td>7909.383591</td>\n",
       "      <td>7885.15640</td>\n",
       "      <td>6676.410888</td>\n",
       "      <td>2081.692980</td>\n",
       "      <td>3.609399</td>\n",
       "      <td>413.136043</td>\n",
       "      <td>62.478569</td>\n",
       "      <td>NaN</td>\n",
       "      <td>4864.966593</td>\n",
       "      <td>NaN</td>\n",
       "      <td>NaN</td>\n",
       "      <td>0.133712</td>\n",
       "      <td>22.164907</td>\n",
       "      <td>0.0</td>\n",
       "      <td>NaN</td>\n",
       "      <td>47987.608637</td>\n",
       "      <td>7.221855</td>\n",
       "      <td>NaN</td>\n",
       "      <td>0.077333</td>\n",
       "      <td>1.048945e+04</td>\n",
       "      <td>1.539385e+05</td>\n",
       "      <td>1.206939</td>\n",
       "      <td>3.080330</td>\n",
       "      <td>0.986169</td>\n",
       "      <td>1.685394</td>\n",
       "      <td>26.739237</td>\n",
       "      <td>42492.757796</td>\n",
       "      <td>23.015293</td>\n",
       "      <td>1.483710</td>\n",
       "      <td>2.595313</td>\n",
       "      <td>5108.500262</td>\n",
       "      <td>20.018117</td>\n",
       "      <td>3.769964e+04</td>\n",
       "      <td>1.441667</td>\n",
       "      <td>2.697601</td>\n",
       "      <td>2.975049</td>\n",
       "      <td>0.226581</td>\n",
       "    </tr>\n",
       "    <tr>\n",
       "      <th>min</th>\n",
       "      <td>5.473400e+04</td>\n",
       "      <td>7.069900e+04</td>\n",
       "      <td>500.000000</td>\n",
       "      <td>500.000000</td>\n",
       "      <td>0.000000</td>\n",
       "      <td>NaN</td>\n",
       "      <td>5.320000</td>\n",
       "      <td>15.690000</td>\n",
       "      <td>NaN</td>\n",
       "      <td>NaN</td>\n",
       "      <td>NaN</td>\n",
       "      <td>NaN</td>\n",
       "      <td>NaN</td>\n",
       "      <td>0.000000e+00</td>\n",
       "      <td>NaN</td>\n",
       "      <td>NaN</td>\n",
       "      <td>NaN</td>\n",
       "      <td>NaN</td>\n",
       "      <td>NaN</td>\n",
       "      <td>NaN</td>\n",
       "      <td>NaN</td>\n",
       "      <td>NaN</td>\n",
       "      <td>0.000000</td>\n",
       "      <td>0.000000</td>\n",
       "      <td>NaN</td>\n",
       "      <td>0.000000</td>\n",
       "      <td>0.000000</td>\n",
       "      <td>0.000000</td>\n",
       "      <td>0.000000</td>\n",
       "      <td>0.000000</td>\n",
       "      <td>0.000000e+00</td>\n",
       "      <td>0.000000</td>\n",
       "      <td>2.000000</td>\n",
       "      <td>NaN</td>\n",
       "      <td>0.000000</td>\n",
       "      <td>0.000000</td>\n",
       "      <td>0.000000</td>\n",
       "      <td>0.00000</td>\n",
       "      <td>0.000000</td>\n",
       "      <td>0.000000</td>\n",
       "      <td>0.000000</td>\n",
       "      <td>0.000000</td>\n",
       "      <td>0.000000</td>\n",
       "      <td>NaN</td>\n",
       "      <td>0.000000</td>\n",
       "      <td>NaN</td>\n",
       "      <td>NaN</td>\n",
       "      <td>0.000000</td>\n",
       "      <td>0.000000</td>\n",
       "      <td>1.0</td>\n",
       "      <td>NaN</td>\n",
       "      <td>17950.000000</td>\n",
       "      <td>3.050000</td>\n",
       "      <td>NaN</td>\n",
       "      <td>0.000000</td>\n",
       "      <td>0.000000e+00</td>\n",
       "      <td>0.000000e+00</td>\n",
       "      <td>0.000000</td>\n",
       "      <td>0.000000</td>\n",
       "      <td>0.000000</td>\n",
       "      <td>0.000000</td>\n",
       "      <td>0.000000</td>\n",
       "      <td>0.000000</td>\n",
       "      <td>0.000000</td>\n",
       "      <td>0.000000</td>\n",
       "      <td>0.000000</td>\n",
       "      <td>0.000000</td>\n",
       "      <td>0.000000</td>\n",
       "      <td>0.000000e+00</td>\n",
       "      <td>0.000000</td>\n",
       "      <td>0.000000</td>\n",
       "      <td>-4.000000</td>\n",
       "      <td>0.000000</td>\n",
       "    </tr>\n",
       "    <tr>\n",
       "      <th>25%</th>\n",
       "      <td>9.067986e+06</td>\n",
       "      <td>1.079273e+07</td>\n",
       "      <td>8000.000000</td>\n",
       "      <td>8000.000000</td>\n",
       "      <td>8000.000000</td>\n",
       "      <td>NaN</td>\n",
       "      <td>9.990000</td>\n",
       "      <td>260.550000</td>\n",
       "      <td>NaN</td>\n",
       "      <td>NaN</td>\n",
       "      <td>NaN</td>\n",
       "      <td>NaN</td>\n",
       "      <td>NaN</td>\n",
       "      <td>4.500000e+04</td>\n",
       "      <td>NaN</td>\n",
       "      <td>NaN</td>\n",
       "      <td>NaN</td>\n",
       "      <td>NaN</td>\n",
       "      <td>NaN</td>\n",
       "      <td>NaN</td>\n",
       "      <td>NaN</td>\n",
       "      <td>NaN</td>\n",
       "      <td>11.880000</td>\n",
       "      <td>0.000000</td>\n",
       "      <td>NaN</td>\n",
       "      <td>0.000000</td>\n",
       "      <td>15.000000</td>\n",
       "      <td>51.000000</td>\n",
       "      <td>8.000000</td>\n",
       "      <td>0.000000</td>\n",
       "      <td>6.469000e+03</td>\n",
       "      <td>37.600000</td>\n",
       "      <td>17.000000</td>\n",
       "      <td>NaN</td>\n",
       "      <td>0.000000</td>\n",
       "      <td>0.000000</td>\n",
       "      <td>1969.690000</td>\n",
       "      <td>1960.12000</td>\n",
       "      <td>1239.950000</td>\n",
       "      <td>451.270000</td>\n",
       "      <td>0.000000</td>\n",
       "      <td>0.000000</td>\n",
       "      <td>0.000000</td>\n",
       "      <td>NaN</td>\n",
       "      <td>285.420000</td>\n",
       "      <td>NaN</td>\n",
       "      <td>NaN</td>\n",
       "      <td>0.000000</td>\n",
       "      <td>27.000000</td>\n",
       "      <td>1.0</td>\n",
       "      <td>NaN</td>\n",
       "      <td>75000.250000</td>\n",
       "      <td>13.187500</td>\n",
       "      <td>NaN</td>\n",
       "      <td>0.000000</td>\n",
       "      <td>0.000000e+00</td>\n",
       "      <td>2.987000e+04</td>\n",
       "      <td>0.000000</td>\n",
       "      <td>1.000000</td>\n",
       "      <td>0.000000</td>\n",
       "      <td>0.000000</td>\n",
       "      <td>6.000000</td>\n",
       "      <td>10390.250000</td>\n",
       "      <td>58.500000</td>\n",
       "      <td>0.000000</td>\n",
       "      <td>1.000000</td>\n",
       "      <td>2405.000000</td>\n",
       "      <td>47.900000</td>\n",
       "      <td>1.400000e+04</td>\n",
       "      <td>0.000000</td>\n",
       "      <td>0.000000</td>\n",
       "      <td>0.000000</td>\n",
       "      <td>0.000000</td>\n",
       "    </tr>\n",
       "    <tr>\n",
       "      <th>50%</th>\n",
       "      <td>3.431355e+07</td>\n",
       "      <td>3.697532e+07</td>\n",
       "      <td>13000.000000</td>\n",
       "      <td>13000.000000</td>\n",
       "      <td>13000.000000</td>\n",
       "      <td>NaN</td>\n",
       "      <td>12.990000</td>\n",
       "      <td>382.550000</td>\n",
       "      <td>NaN</td>\n",
       "      <td>NaN</td>\n",
       "      <td>NaN</td>\n",
       "      <td>NaN</td>\n",
       "      <td>NaN</td>\n",
       "      <td>6.500000e+04</td>\n",
       "      <td>NaN</td>\n",
       "      <td>NaN</td>\n",
       "      <td>NaN</td>\n",
       "      <td>NaN</td>\n",
       "      <td>NaN</td>\n",
       "      <td>NaN</td>\n",
       "      <td>NaN</td>\n",
       "      <td>NaN</td>\n",
       "      <td>17.610000</td>\n",
       "      <td>0.000000</td>\n",
       "      <td>NaN</td>\n",
       "      <td>0.000000</td>\n",
       "      <td>31.000000</td>\n",
       "      <td>70.000000</td>\n",
       "      <td>11.000000</td>\n",
       "      <td>0.000000</td>\n",
       "      <td>1.190300e+04</td>\n",
       "      <td>55.900000</td>\n",
       "      <td>24.000000</td>\n",
       "      <td>NaN</td>\n",
       "      <td>6290.250000</td>\n",
       "      <td>6287.650000</td>\n",
       "      <td>4976.160000</td>\n",
       "      <td>4948.25000</td>\n",
       "      <td>3286.890000</td>\n",
       "      <td>1076.910000</td>\n",
       "      <td>0.000000</td>\n",
       "      <td>0.000000</td>\n",
       "      <td>0.000000</td>\n",
       "      <td>NaN</td>\n",
       "      <td>468.820000</td>\n",
       "      <td>NaN</td>\n",
       "      <td>NaN</td>\n",
       "      <td>0.000000</td>\n",
       "      <td>44.000000</td>\n",
       "      <td>1.0</td>\n",
       "      <td>NaN</td>\n",
       "      <td>100000.000000</td>\n",
       "      <td>17.735000</td>\n",
       "      <td>NaN</td>\n",
       "      <td>0.000000</td>\n",
       "      <td>0.000000e+00</td>\n",
       "      <td>8.100850e+04</td>\n",
       "      <td>1.000000</td>\n",
       "      <td>2.000000</td>\n",
       "      <td>0.000000</td>\n",
       "      <td>1.000000</td>\n",
       "      <td>12.000000</td>\n",
       "      <td>24959.500000</td>\n",
       "      <td>75.000000</td>\n",
       "      <td>1.000000</td>\n",
       "      <td>2.000000</td>\n",
       "      <td>4485.500000</td>\n",
       "      <td>62.100000</td>\n",
       "      <td>2.380000e+04</td>\n",
       "      <td>0.000000</td>\n",
       "      <td>0.000000</td>\n",
       "      <td>2.000000</td>\n",
       "      <td>0.000000</td>\n",
       "    </tr>\n",
       "    <tr>\n",
       "      <th>75%</th>\n",
       "      <td>5.446311e+07</td>\n",
       "      <td>5.803559e+07</td>\n",
       "      <td>20000.000000</td>\n",
       "      <td>20000.000000</td>\n",
       "      <td>20000.000000</td>\n",
       "      <td>NaN</td>\n",
       "      <td>15.990000</td>\n",
       "      <td>571.560000</td>\n",
       "      <td>NaN</td>\n",
       "      <td>NaN</td>\n",
       "      <td>NaN</td>\n",
       "      <td>NaN</td>\n",
       "      <td>NaN</td>\n",
       "      <td>9.000000e+04</td>\n",
       "      <td>NaN</td>\n",
       "      <td>NaN</td>\n",
       "      <td>NaN</td>\n",
       "      <td>NaN</td>\n",
       "      <td>NaN</td>\n",
       "      <td>NaN</td>\n",
       "      <td>NaN</td>\n",
       "      <td>NaN</td>\n",
       "      <td>23.900000</td>\n",
       "      <td>0.000000</td>\n",
       "      <td>NaN</td>\n",
       "      <td>1.000000</td>\n",
       "      <td>50.000000</td>\n",
       "      <td>92.000000</td>\n",
       "      <td>14.000000</td>\n",
       "      <td>0.000000</td>\n",
       "      <td>2.085700e+04</td>\n",
       "      <td>73.500000</td>\n",
       "      <td>32.000000</td>\n",
       "      <td>NaN</td>\n",
       "      <td>13528.800000</td>\n",
       "      <td>13522.510000</td>\n",
       "      <td>10744.803649</td>\n",
       "      <td>10697.33000</td>\n",
       "      <td>8000.000000</td>\n",
       "      <td>2233.980000</td>\n",
       "      <td>0.000000</td>\n",
       "      <td>0.000000</td>\n",
       "      <td>0.000000</td>\n",
       "      <td>NaN</td>\n",
       "      <td>849.160000</td>\n",
       "      <td>NaN</td>\n",
       "      <td>NaN</td>\n",
       "      <td>0.000000</td>\n",
       "      <td>61.000000</td>\n",
       "      <td>1.0</td>\n",
       "      <td>NaN</td>\n",
       "      <td>130750.000000</td>\n",
       "      <td>22.650000</td>\n",
       "      <td>NaN</td>\n",
       "      <td>0.000000</td>\n",
       "      <td>0.000000e+00</td>\n",
       "      <td>2.087032e+05</td>\n",
       "      <td>2.000000</td>\n",
       "      <td>4.000000</td>\n",
       "      <td>1.000000</td>\n",
       "      <td>2.000000</td>\n",
       "      <td>23.000000</td>\n",
       "      <td>47493.000000</td>\n",
       "      <td>87.500000</td>\n",
       "      <td>2.000000</td>\n",
       "      <td>4.000000</td>\n",
       "      <td>7701.250000</td>\n",
       "      <td>75.300000</td>\n",
       "      <td>3.990000e+04</td>\n",
       "      <td>1.000000</td>\n",
       "      <td>2.000000</td>\n",
       "      <td>3.000000</td>\n",
       "      <td>0.000000</td>\n",
       "    </tr>\n",
       "    <tr>\n",
       "      <th>max</th>\n",
       "      <td>6.861687e+07</td>\n",
       "      <td>7.351969e+07</td>\n",
       "      <td>35000.000000</td>\n",
       "      <td>35000.000000</td>\n",
       "      <td>35000.000000</td>\n",
       "      <td>NaN</td>\n",
       "      <td>28.990000</td>\n",
       "      <td>1445.460000</td>\n",
       "      <td>NaN</td>\n",
       "      <td>NaN</td>\n",
       "      <td>NaN</td>\n",
       "      <td>NaN</td>\n",
       "      <td>NaN</td>\n",
       "      <td>9.500000e+06</td>\n",
       "      <td>NaN</td>\n",
       "      <td>NaN</td>\n",
       "      <td>NaN</td>\n",
       "      <td>NaN</td>\n",
       "      <td>NaN</td>\n",
       "      <td>NaN</td>\n",
       "      <td>NaN</td>\n",
       "      <td>NaN</td>\n",
       "      <td>9999.000000</td>\n",
       "      <td>39.000000</td>\n",
       "      <td>NaN</td>\n",
       "      <td>8.000000</td>\n",
       "      <td>188.000000</td>\n",
       "      <td>129.000000</td>\n",
       "      <td>90.000000</td>\n",
       "      <td>86.000000</td>\n",
       "      <td>2.904836e+06</td>\n",
       "      <td>892.300000</td>\n",
       "      <td>169.000000</td>\n",
       "      <td>NaN</td>\n",
       "      <td>49372.860000</td>\n",
       "      <td>49372.860000</td>\n",
       "      <td>57777.579870</td>\n",
       "      <td>57777.58000</td>\n",
       "      <td>35000.030000</td>\n",
       "      <td>24205.620000</td>\n",
       "      <td>358.680000</td>\n",
       "      <td>33520.270000</td>\n",
       "      <td>7002.190000</td>\n",
       "      <td>NaN</td>\n",
       "      <td>36475.590000</td>\n",
       "      <td>NaN</td>\n",
       "      <td>NaN</td>\n",
       "      <td>20.000000</td>\n",
       "      <td>188.000000</td>\n",
       "      <td>1.0</td>\n",
       "      <td>NaN</td>\n",
       "      <td>410000.000000</td>\n",
       "      <td>43.860000</td>\n",
       "      <td>NaN</td>\n",
       "      <td>14.000000</td>\n",
       "      <td>9.152545e+06</td>\n",
       "      <td>8.000078e+06</td>\n",
       "      <td>12.000000</td>\n",
       "      <td>40.000000</td>\n",
       "      <td>12.000000</td>\n",
       "      <td>15.000000</td>\n",
       "      <td>300.000000</td>\n",
       "      <td>634217.000000</td>\n",
       "      <td>223.300000</td>\n",
       "      <td>22.000000</td>\n",
       "      <td>43.000000</td>\n",
       "      <td>83047.000000</td>\n",
       "      <td>151.400000</td>\n",
       "      <td>9.999999e+06</td>\n",
       "      <td>15.000000</td>\n",
       "      <td>33.000000</td>\n",
       "      <td>32.000000</td>\n",
       "      <td>1.000000</td>\n",
       "    </tr>\n",
       "  </tbody>\n",
       "</table>\n",
       "</div>"
      ],
      "text/plain": [
       "                  id     member_id      loan_amnt    funded_amnt  \\\n",
       "count   8.559690e+05  8.559690e+05  855969.000000  855969.000000   \n",
       "unique           NaN           NaN            NaN            NaN   \n",
       "top              NaN           NaN            NaN            NaN   \n",
       "freq             NaN           NaN            NaN            NaN   \n",
       "mean    3.224073e+07  3.476269e+07   14745.571335   14732.378305   \n",
       "std     2.271969e+07  2.399418e+07    8425.340005    8419.471653   \n",
       "min     5.473400e+04  7.069900e+04     500.000000     500.000000   \n",
       "25%     9.067986e+06  1.079273e+07    8000.000000    8000.000000   \n",
       "50%     3.431355e+07  3.697532e+07   13000.000000   13000.000000   \n",
       "75%     5.446311e+07  5.803559e+07   20000.000000   20000.000000   \n",
       "max     6.861687e+07  7.351969e+07   35000.000000   35000.000000   \n",
       "\n",
       "        funded_amnt_inv        term       int_rate    installment   grade  \\\n",
       "count     855969.000000      855969  855969.000000  855969.000000  855969   \n",
       "unique              NaN           2            NaN            NaN       7   \n",
       "top                 NaN   36 months            NaN            NaN       B   \n",
       "freq                NaN      600221            NaN            NaN  247998   \n",
       "mean       14700.061226         NaN      13.192320     436.238072     NaN   \n",
       "std         8425.805478         NaN       4.368365     243.726876     NaN   \n",
       "min            0.000000         NaN       5.320000      15.690000     NaN   \n",
       "25%         8000.000000         NaN       9.990000     260.550000     NaN   \n",
       "50%        13000.000000         NaN      12.990000     382.550000     NaN   \n",
       "75%        20000.000000         NaN      15.990000     571.560000     NaN   \n",
       "max        35000.000000         NaN      28.990000    1445.460000     NaN   \n",
       "\n",
       "       sub_grade emp_title emp_length home_ownership    annual_inc  \\\n",
       "count     855969    806526     812908         855969  8.559690e+05   \n",
       "unique        35    290912         11              6           NaN   \n",
       "top           B3   Teacher  10+ years       MORTGAGE           NaN   \n",
       "freq       54958     12965     282090         429106           NaN   \n",
       "mean         NaN       NaN        NaN            NaN  7.507119e+04   \n",
       "std          NaN       NaN        NaN            NaN  6.426447e+04   \n",
       "min          NaN       NaN        NaN            NaN  0.000000e+00   \n",
       "25%          NaN       NaN        NaN            NaN  4.500000e+04   \n",
       "50%          NaN       NaN        NaN            NaN  6.500000e+04   \n",
       "75%          NaN       NaN        NaN            NaN  9.000000e+04   \n",
       "max          NaN       NaN        NaN            NaN  9.500000e+06   \n",
       "\n",
       "       verification_status   issue_d pymnt_plan    desc             purpose  \\\n",
       "count               855969    855969     855969  121812              855969   \n",
       "unique                   3       103          2  120335                  14   \n",
       "top        Source Verified  Oct-2015          n          debt_consolidation   \n",
       "freq                318178     48212     855964     231              505392   \n",
       "mean                   NaN       NaN        NaN     NaN                 NaN   \n",
       "std                    NaN       NaN        NaN     NaN                 NaN   \n",
       "min                    NaN       NaN        NaN     NaN                 NaN   \n",
       "25%                    NaN       NaN        NaN     NaN                 NaN   \n",
       "50%                    NaN       NaN        NaN     NaN                 NaN   \n",
       "75%                    NaN       NaN        NaN     NaN                 NaN   \n",
       "max                    NaN       NaN        NaN     NaN                 NaN   \n",
       "\n",
       "                     title zip_code addr_state            dti    delinq_2yrs  \\\n",
       "count               855936   855969     855969  855969.000000  855969.000000   \n",
       "unique               60991      931         51            NaN            NaN   \n",
       "top     Debt consolidation    945xx         CA            NaN            NaN   \n",
       "freq                398089     9466     125172            NaN            NaN   \n",
       "mean                   NaN      NaN        NaN      18.122165       0.311621   \n",
       "std                    NaN      NaN        NaN      17.423629       0.857189   \n",
       "min                    NaN      NaN        NaN       0.000000       0.000000   \n",
       "25%                    NaN      NaN        NaN      11.880000       0.000000   \n",
       "50%                    NaN      NaN        NaN      17.610000       0.000000   \n",
       "75%                    NaN      NaN        NaN      23.900000       0.000000   \n",
       "max                    NaN      NaN        NaN    9999.000000      39.000000   \n",
       "\n",
       "       earliest_cr_line  inq_last_6mths  mths_since_last_delinq  \\\n",
       "count            855969   855969.000000           416157.000000   \n",
       "unique              697             NaN                     NaN   \n",
       "top            Aug-2001             NaN                     NaN   \n",
       "freq               6433             NaN                     NaN   \n",
       "mean                NaN        0.680915               34.149943   \n",
       "std                 NaN        0.964033               21.868500   \n",
       "min                 NaN        0.000000                0.000000   \n",
       "25%                 NaN        0.000000               15.000000   \n",
       "50%                 NaN        0.000000               31.000000   \n",
       "75%                 NaN        1.000000               50.000000   \n",
       "max                 NaN        8.000000              188.000000   \n",
       "\n",
       "        mths_since_last_record       open_acc        pub_rec     revol_bal  \\\n",
       "count            131184.000000  855969.000000  855969.000000  8.559690e+05   \n",
       "unique                     NaN            NaN            NaN           NaN   \n",
       "top                        NaN            NaN            NaN           NaN   \n",
       "freq                       NaN            NaN            NaN           NaN   \n",
       "mean                 70.463959      11.542447       0.194537  1.691053e+04   \n",
       "std                  27.827120       5.308094       0.581585  2.222374e+04   \n",
       "min                   0.000000       0.000000       0.000000  0.000000e+00   \n",
       "25%                  51.000000       8.000000       0.000000  6.469000e+03   \n",
       "50%                  70.000000      11.000000       0.000000  1.190300e+04   \n",
       "75%                  92.000000      14.000000       0.000000  2.085700e+04   \n",
       "max                 129.000000      90.000000      86.000000  2.904836e+06   \n",
       "\n",
       "           revol_util      total_acc initial_list_status      out_prncp  \\\n",
       "count   855523.000000  855969.000000              855969  855969.000000   \n",
       "unique            NaN            NaN                   2            NaN   \n",
       "top               NaN            NaN                   f            NaN   \n",
       "freq              NaN            NaN              442555            NaN   \n",
       "mean        55.019405      25.269269                 NaN    8284.830230   \n",
       "std         23.811585      11.818841                 NaN    8461.946669   \n",
       "min          0.000000       2.000000                 NaN       0.000000   \n",
       "25%         37.600000      17.000000                 NaN       0.000000   \n",
       "50%         55.900000      24.000000                 NaN    6290.250000   \n",
       "75%         73.500000      32.000000                 NaN   13528.800000   \n",
       "max        892.300000     169.000000                 NaN   49372.860000   \n",
       "\n",
       "        out_prncp_inv    total_pymnt  total_pymnt_inv  total_rec_prncp  \\\n",
       "count   855969.000000  855969.000000     855969.00000    855969.000000   \n",
       "unique            NaN            NaN              NaN              NaN   \n",
       "top               NaN            NaN              NaN              NaN   \n",
       "freq              NaN            NaN              NaN              NaN   \n",
       "mean      8281.449347    7653.296336       7622.22052      5850.841088   \n",
       "std       8458.496422    7909.383591       7885.15640      6676.410888   \n",
       "min          0.000000       0.000000          0.00000         0.000000   \n",
       "25%          0.000000    1969.690000       1960.12000      1239.950000   \n",
       "50%       6287.650000    4976.160000       4948.25000      3286.890000   \n",
       "75%      13522.510000   10744.803649      10697.33000      8000.000000   \n",
       "max      49372.860000   57777.579870      57777.58000     35000.030000   \n",
       "\n",
       "        total_rec_int  total_rec_late_fee     recoveries  \\\n",
       "count   855969.000000       855969.000000  855969.000000   \n",
       "unique            NaN                 NaN            NaN   \n",
       "top               NaN                 NaN            NaN   \n",
       "freq              NaN                 NaN            NaN   \n",
       "mean      1755.046221            0.319530      47.089499   \n",
       "std       2081.692980            3.609399     413.136043   \n",
       "min          0.000000            0.000000       0.000000   \n",
       "25%        451.270000            0.000000       0.000000   \n",
       "50%       1076.910000            0.000000       0.000000   \n",
       "75%       2233.980000            0.000000       0.000000   \n",
       "max      24205.620000          358.680000   33520.270000   \n",
       "\n",
       "        collection_recovery_fee last_pymnt_d  last_pymnt_amnt next_pymnt_d  \\\n",
       "count             855969.000000       847107    855969.000000       602998   \n",
       "unique                      NaN           97              NaN            3   \n",
       "top                         NaN     Jan-2016              NaN     Feb-2016   \n",
       "freq                        NaN       467510              NaN       534094   \n",
       "mean                   4.951227          NaN      2225.985295          NaN   \n",
       "std                   62.478569          NaN      4864.966593          NaN   \n",
       "min                    0.000000          NaN         0.000000          NaN   \n",
       "25%                    0.000000          NaN       285.420000          NaN   \n",
       "50%                    0.000000          NaN       468.820000          NaN   \n",
       "75%                    0.000000          NaN       849.160000          NaN   \n",
       "max                 7002.190000          NaN     36475.590000          NaN   \n",
       "\n",
       "       last_credit_pull_d  collections_12_mths_ex_med  \\\n",
       "count              855919               855913.000000   \n",
       "unique                102                         NaN   \n",
       "top              Jan-2016                         NaN   \n",
       "freq               701687                         NaN   \n",
       "mean                  NaN                    0.014230   \n",
       "std                   NaN                    0.133712   \n",
       "min                   NaN                    0.000000   \n",
       "25%                   NaN                    0.000000   \n",
       "50%                   NaN                    0.000000   \n",
       "75%                   NaN                    0.000000   \n",
       "max                   NaN                   20.000000   \n",
       "\n",
       "        mths_since_last_major_derog  policy_code application_type  \\\n",
       "count                 213139.000000     855969.0           855969   \n",
       "unique                          NaN          NaN                2   \n",
       "top                             NaN          NaN       INDIVIDUAL   \n",
       "freq                            NaN          NaN           855527   \n",
       "mean                      44.101450          1.0              NaN   \n",
       "std                       22.164907          0.0              NaN   \n",
       "min                        0.000000          1.0              NaN   \n",
       "25%                       27.000000          1.0              NaN   \n",
       "50%                       44.000000          1.0              NaN   \n",
       "75%                       61.000000          1.0              NaN   \n",
       "max                      188.000000          1.0              NaN   \n",
       "\n",
       "        annual_inc_joint   dti_joint verification_status_joint  \\\n",
       "count         442.000000  440.000000                       442   \n",
       "unique               NaN         NaN                         3   \n",
       "top                  NaN         NaN              Not Verified   \n",
       "freq                 NaN         NaN                       252   \n",
       "mean       107412.163982   18.318477                       NaN   \n",
       "std         47987.608637    7.221855                       NaN   \n",
       "min         17950.000000    3.050000                       NaN   \n",
       "25%         75000.250000   13.187500                       NaN   \n",
       "50%        100000.000000   17.735000                       NaN   \n",
       "75%        130750.000000   22.650000                       NaN   \n",
       "max        410000.000000   43.860000                       NaN   \n",
       "\n",
       "        acc_now_delinq  tot_coll_amt   tot_cur_bal   open_acc_6m  \\\n",
       "count    855969.000000  7.886560e+05  7.886560e+05  13288.000000   \n",
       "unique             NaN           NaN           NaN           NaN   \n",
       "top                NaN           NaN           NaN           NaN   \n",
       "freq               NaN           NaN           NaN           NaN   \n",
       "mean          0.004944  2.254129e+02  1.397662e+05      1.072998   \n",
       "std           0.077333  1.048945e+04  1.539385e+05      1.206939   \n",
       "min           0.000000  0.000000e+00  0.000000e+00      0.000000   \n",
       "25%           0.000000  0.000000e+00  2.987000e+04      0.000000   \n",
       "50%           0.000000  0.000000e+00  8.100850e+04      1.000000   \n",
       "75%           0.000000  0.000000e+00  2.087032e+05      2.000000   \n",
       "max          14.000000  9.152545e+06  8.000078e+06     12.000000   \n",
       "\n",
       "          open_il_6m   open_il_12m   open_il_24m  mths_since_rcnt_il  \\\n",
       "count   13288.000000  13288.000000  13288.000000        12934.000000   \n",
       "unique           NaN           NaN           NaN                 NaN   \n",
       "top              NaN           NaN           NaN                 NaN   \n",
       "freq             NaN           NaN           NaN                 NaN   \n",
       "mean        2.945665      0.749323      1.666767           20.833153   \n",
       "std         3.080330      0.986169      1.685394           26.739237   \n",
       "min         0.000000      0.000000      0.000000            0.000000   \n",
       "25%         1.000000      0.000000      0.000000            6.000000   \n",
       "50%         2.000000      0.000000      1.000000           12.000000   \n",
       "75%         4.000000      1.000000      2.000000           23.000000   \n",
       "max        40.000000     12.000000     15.000000          300.000000   \n",
       "\n",
       "         total_bal_il       il_util   open_rv_12m   open_rv_24m    max_bal_bc  \\\n",
       "count    13288.000000  11609.000000  13288.000000  13288.000000  13288.000000   \n",
       "unique            NaN           NaN           NaN           NaN           NaN   \n",
       "top               NaN           NaN           NaN           NaN           NaN   \n",
       "freq              NaN           NaN           NaN           NaN           NaN   \n",
       "mean     36511.541391     71.486993      1.354305      2.945515   5840.443332   \n",
       "std      42492.757796     23.015293      1.483710      2.595313   5108.500262   \n",
       "min          0.000000      0.000000      0.000000      0.000000      0.000000   \n",
       "25%      10390.250000     58.500000      0.000000      1.000000   2405.000000   \n",
       "50%      24959.500000     75.000000      1.000000      2.000000   4485.500000   \n",
       "75%      47493.000000     87.500000      2.000000      4.000000   7701.250000   \n",
       "max     634217.000000    223.300000     22.000000     43.000000  83047.000000   \n",
       "\n",
       "            all_util  total_rev_hi_lim        inq_fi   total_cu_tl  \\\n",
       "count   13288.000000      7.886560e+05  13288.000000  13288.000000   \n",
       "unique           NaN               NaN           NaN           NaN   \n",
       "top              NaN               NaN           NaN           NaN   \n",
       "freq             NaN               NaN           NaN           NaN   \n",
       "mean       61.024526      3.216357e+04      0.947772      1.524232   \n",
       "std        20.018117      3.769964e+04      1.441667      2.697601   \n",
       "min         0.000000      0.000000e+00      0.000000      0.000000   \n",
       "25%        47.900000      1.400000e+04      0.000000      0.000000   \n",
       "50%        62.100000      2.380000e+04      0.000000      0.000000   \n",
       "75%        75.300000      3.990000e+04      1.000000      2.000000   \n",
       "max       151.400000      9.999999e+06     15.000000     33.000000   \n",
       "\n",
       "        inq_last_12m    default_ind  \n",
       "count   13288.000000  855969.000000  \n",
       "unique           NaN            NaN  \n",
       "top              NaN            NaN  \n",
       "freq             NaN            NaN  \n",
       "mean        1.841963       0.054286  \n",
       "std         2.975049       0.226581  \n",
       "min        -4.000000       0.000000  \n",
       "25%         0.000000       0.000000  \n",
       "50%         2.000000       0.000000  \n",
       "75%         3.000000       0.000000  \n",
       "max        32.000000       1.000000  "
      ]
     },
     "execution_count": 6,
     "metadata": {},
     "output_type": "execute_result"
    }
   ],
   "source": [
    "#UNDERSTANDING THE NUMERIC DATA\n",
    "Loan_df.describe(include='all')"
   ]
  },
  {
   "cell_type": "code",
   "execution_count": 7,
   "metadata": {},
   "outputs": [
    {
     "data": {
      "text/plain": [
       "(855969, 73)"
      ]
     },
     "execution_count": 7,
     "metadata": {},
     "output_type": "execute_result"
    }
   ],
   "source": [
    "#CREATING A COPY OF THE DATASET\n",
    "df=pd.DataFrame.copy(Loan_df)\n",
    "df.shape"
   ]
  },
  {
   "cell_type": "code",
   "execution_count": 8,
   "metadata": {},
   "outputs": [
    {
     "data": {
      "text/plain": [
       "(855969, 67)"
      ]
     },
     "execution_count": 8,
     "metadata": {},
     "output_type": "execute_result"
    }
   ],
   "source": [
    "#FEATURE SELECTION\n",
    "#ELIMINATING THE IRRELEVANT VARIABLES FROM THE DATASET BASED ON DOMAIN KNOWLEDGE\n",
    "df=df.drop([\"id\",\"member_id\",\"desc\",\"zip_code\",\"addr_state\",\"earliest_cr_line\"],axis=1)\n",
    "df.shape"
   ]
  },
  {
   "cell_type": "code",
   "execution_count": 9,
   "metadata": {},
   "outputs": [],
   "source": [
    "#6 VARIABLES HAVE BEEN ELIMINATED FROM THE DATASET\n",
    "#id, member_id-->random nos assigned, doesn't contribute for analysis.\n",
    "#desc-->description of loan, doesn't contribute for analysis.\n",
    "#earliest_cr_line-->the month from which the customer was allowed to take credits, doesn't contribute for analysis."
   ]
  },
  {
   "cell_type": "code",
   "execution_count": 10,
   "metadata": {},
   "outputs": [
    {
     "data": {
      "text/html": [
       "<div>\n",
       "<style scoped>\n",
       "    .dataframe tbody tr th:only-of-type {\n",
       "        vertical-align: middle;\n",
       "    }\n",
       "\n",
       "    .dataframe tbody tr th {\n",
       "        vertical-align: top;\n",
       "    }\n",
       "\n",
       "    .dataframe thead th {\n",
       "        text-align: right;\n",
       "    }\n",
       "</style>\n",
       "<table border=\"1\" class=\"dataframe\">\n",
       "  <thead>\n",
       "    <tr style=\"text-align: right;\">\n",
       "      <th></th>\n",
       "      <th>Total</th>\n",
       "      <th>Percent</th>\n",
       "    </tr>\n",
       "  </thead>\n",
       "  <tbody>\n",
       "    <tr>\n",
       "      <th>dti_joint</th>\n",
       "      <td>855529</td>\n",
       "      <td>0.999486</td>\n",
       "    </tr>\n",
       "    <tr>\n",
       "      <th>verification_status_joint</th>\n",
       "      <td>855527</td>\n",
       "      <td>0.999484</td>\n",
       "    </tr>\n",
       "    <tr>\n",
       "      <th>annual_inc_joint</th>\n",
       "      <td>855527</td>\n",
       "      <td>0.999484</td>\n",
       "    </tr>\n",
       "    <tr>\n",
       "      <th>il_util</th>\n",
       "      <td>844360</td>\n",
       "      <td>0.986438</td>\n",
       "    </tr>\n",
       "    <tr>\n",
       "      <th>mths_since_rcnt_il</th>\n",
       "      <td>843035</td>\n",
       "      <td>0.984890</td>\n",
       "    </tr>\n",
       "    <tr>\n",
       "      <th>inq_last_12m</th>\n",
       "      <td>842681</td>\n",
       "      <td>0.984476</td>\n",
       "    </tr>\n",
       "    <tr>\n",
       "      <th>all_util</th>\n",
       "      <td>842681</td>\n",
       "      <td>0.984476</td>\n",
       "    </tr>\n",
       "    <tr>\n",
       "      <th>max_bal_bc</th>\n",
       "      <td>842681</td>\n",
       "      <td>0.984476</td>\n",
       "    </tr>\n",
       "    <tr>\n",
       "      <th>open_rv_24m</th>\n",
       "      <td>842681</td>\n",
       "      <td>0.984476</td>\n",
       "    </tr>\n",
       "    <tr>\n",
       "      <th>open_rv_12m</th>\n",
       "      <td>842681</td>\n",
       "      <td>0.984476</td>\n",
       "    </tr>\n",
       "    <tr>\n",
       "      <th>inq_fi</th>\n",
       "      <td>842681</td>\n",
       "      <td>0.984476</td>\n",
       "    </tr>\n",
       "    <tr>\n",
       "      <th>total_bal_il</th>\n",
       "      <td>842681</td>\n",
       "      <td>0.984476</td>\n",
       "    </tr>\n",
       "    <tr>\n",
       "      <th>open_il_24m</th>\n",
       "      <td>842681</td>\n",
       "      <td>0.984476</td>\n",
       "    </tr>\n",
       "    <tr>\n",
       "      <th>open_il_12m</th>\n",
       "      <td>842681</td>\n",
       "      <td>0.984476</td>\n",
       "    </tr>\n",
       "    <tr>\n",
       "      <th>open_il_6m</th>\n",
       "      <td>842681</td>\n",
       "      <td>0.984476</td>\n",
       "    </tr>\n",
       "    <tr>\n",
       "      <th>open_acc_6m</th>\n",
       "      <td>842681</td>\n",
       "      <td>0.984476</td>\n",
       "    </tr>\n",
       "    <tr>\n",
       "      <th>total_cu_tl</th>\n",
       "      <td>842681</td>\n",
       "      <td>0.984476</td>\n",
       "    </tr>\n",
       "    <tr>\n",
       "      <th>mths_since_last_record</th>\n",
       "      <td>724785</td>\n",
       "      <td>0.846742</td>\n",
       "    </tr>\n",
       "    <tr>\n",
       "      <th>mths_since_last_major_derog</th>\n",
       "      <td>642830</td>\n",
       "      <td>0.750997</td>\n",
       "    </tr>\n",
       "    <tr>\n",
       "      <th>mths_since_last_delinq</th>\n",
       "      <td>439812</td>\n",
       "      <td>0.513818</td>\n",
       "    </tr>\n",
       "    <tr>\n",
       "      <th>next_pymnt_d</th>\n",
       "      <td>252971</td>\n",
       "      <td>0.295538</td>\n",
       "    </tr>\n",
       "    <tr>\n",
       "      <th>total_rev_hi_lim</th>\n",
       "      <td>67313</td>\n",
       "      <td>0.078640</td>\n",
       "    </tr>\n",
       "    <tr>\n",
       "      <th>tot_cur_bal</th>\n",
       "      <td>67313</td>\n",
       "      <td>0.078640</td>\n",
       "    </tr>\n",
       "    <tr>\n",
       "      <th>tot_coll_amt</th>\n",
       "      <td>67313</td>\n",
       "      <td>0.078640</td>\n",
       "    </tr>\n",
       "    <tr>\n",
       "      <th>emp_title</th>\n",
       "      <td>49443</td>\n",
       "      <td>0.057763</td>\n",
       "    </tr>\n",
       "    <tr>\n",
       "      <th>emp_length</th>\n",
       "      <td>43061</td>\n",
       "      <td>0.050307</td>\n",
       "    </tr>\n",
       "    <tr>\n",
       "      <th>last_pymnt_d</th>\n",
       "      <td>8862</td>\n",
       "      <td>0.010353</td>\n",
       "    </tr>\n",
       "    <tr>\n",
       "      <th>revol_util</th>\n",
       "      <td>446</td>\n",
       "      <td>0.000521</td>\n",
       "    </tr>\n",
       "    <tr>\n",
       "      <th>collections_12_mths_ex_med</th>\n",
       "      <td>56</td>\n",
       "      <td>0.000065</td>\n",
       "    </tr>\n",
       "    <tr>\n",
       "      <th>last_credit_pull_d</th>\n",
       "      <td>50</td>\n",
       "      <td>0.000058</td>\n",
       "    </tr>\n",
       "  </tbody>\n",
       "</table>\n",
       "</div>"
      ],
      "text/plain": [
       "                              Total   Percent\n",
       "dti_joint                    855529  0.999486\n",
       "verification_status_joint    855527  0.999484\n",
       "annual_inc_joint             855527  0.999484\n",
       "il_util                      844360  0.986438\n",
       "mths_since_rcnt_il           843035  0.984890\n",
       "inq_last_12m                 842681  0.984476\n",
       "all_util                     842681  0.984476\n",
       "max_bal_bc                   842681  0.984476\n",
       "open_rv_24m                  842681  0.984476\n",
       "open_rv_12m                  842681  0.984476\n",
       "inq_fi                       842681  0.984476\n",
       "total_bal_il                 842681  0.984476\n",
       "open_il_24m                  842681  0.984476\n",
       "open_il_12m                  842681  0.984476\n",
       "open_il_6m                   842681  0.984476\n",
       "open_acc_6m                  842681  0.984476\n",
       "total_cu_tl                  842681  0.984476\n",
       "mths_since_last_record       724785  0.846742\n",
       "mths_since_last_major_derog  642830  0.750997\n",
       "mths_since_last_delinq       439812  0.513818\n",
       "next_pymnt_d                 252971  0.295538\n",
       "total_rev_hi_lim              67313  0.078640\n",
       "tot_cur_bal                   67313  0.078640\n",
       "tot_coll_amt                  67313  0.078640\n",
       "emp_title                     49443  0.057763\n",
       "emp_length                    43061  0.050307\n",
       "last_pymnt_d                   8862  0.010353\n",
       "revol_util                      446  0.000521\n",
       "collections_12_mths_ex_med       56  0.000065\n",
       "last_credit_pull_d               50  0.000058"
      ]
     },
     "execution_count": 10,
     "metadata": {},
     "output_type": "execute_result"
    }
   ],
   "source": [
    "#HANDLING THE MISSING VALUES\n",
    "total_missing_value = df.isnull().sum().sort_values(ascending=False)\n",
    "percent_of_missign_value = (df.isnull().sum()/df.isnull().count()).sort_values(ascending=False)\n",
    "missing_data = pd.concat([total_missing_value, percent_of_missign_value], axis=1, keys=['Total', 'Percent'])\n",
    "missing_data.head(30)"
   ]
  },
  {
   "cell_type": "code",
   "execution_count": 11,
   "metadata": {},
   "outputs": [
    {
     "data": {
      "image/png": "[encoded data removed]",
      "text/plain": [
       "<Figure size 1440x720 with 1 Axes>"
      ]
     },
     "metadata": {
      "needs_background": "light"
     },
     "output_type": "display_data"
    }
   ],
   "source": [
    "#PLOTTING A GRAPH TO SEE THE MISSING VALUES IN THE DATA\n",
    "cols = df.isnull().sum()\n",
    "plt.figure(figsize=(20,10))\n",
    "cols.plot(kind='bar')\n",
    "plt.show()"
   ]
  },
  {
   "cell_type": "code",
   "execution_count": 12,
   "metadata": {},
   "outputs": [
    {
     "name": "stdout",
     "output_type": "stream",
     "text": [
      "['mths_since_last_delinq', 'mths_since_last_record', 'mths_since_last_major_derog', 'annual_inc_joint', 'dti_joint', 'verification_status_joint', 'open_acc_6m', 'open_il_6m', 'open_il_12m', 'open_il_24m', 'mths_since_rcnt_il', 'total_bal_il', 'il_util', 'open_rv_12m', 'open_rv_24m', 'max_bal_bc', 'all_util', 'inq_fi', 'total_cu_tl', 'inq_last_12m']\n"
     ]
    }
   ],
   "source": [
    "#ELIMINATING THE VARIABLES THAT HAVE MORE THAN 50% NA'S\n",
    "null_cols=[]\n",
    "for x in df.columns:\n",
    "    if df[x].isnull().sum()>=0.5*len(df):\n",
    "        null_cols.append(x)\n",
    "print(null_cols)"
   ]
  },
  {
   "cell_type": "code",
   "execution_count": 13,
   "metadata": {},
   "outputs": [
    {
     "name": "stdout",
     "output_type": "stream",
     "text": [
      "20\n"
     ]
    }
   ],
   "source": [
    "print(len(null_cols))"
   ]
  },
  {
   "cell_type": "code",
   "execution_count": 14,
   "metadata": {},
   "outputs": [],
   "source": [
    "#20 VARIABLES CONTAIN MORE THAT 50% NA'S & IS THUS ELIMINATED FROM THE DATASET"
   ]
  },
  {
   "cell_type": "code",
   "execution_count": 15,
   "metadata": {},
   "outputs": [
    {
     "data": {
      "text/plain": [
       "(855969, 47)"
      ]
     },
     "execution_count": 15,
     "metadata": {},
     "output_type": "execute_result"
    }
   ],
   "source": [
    "df=df.drop(columns=null_cols,axis=1)\n",
    "df.shape"
   ]
  },
  {
   "cell_type": "code",
   "execution_count": 16,
   "metadata": {},
   "outputs": [],
   "source": [
    "#TREATING THE NULL VALUES OF SOME COLUMNS WITH MEDIAN BASED ON DOMAIN KNOWLEGDE\n",
    "\n",
    "df['tot_coll_amt'].fillna(df['tot_coll_amt'].median(),inplace=True)\n",
    "df['tot_cur_bal'].fillna(df['tot_cur_bal'].median(),inplace=True)\n",
    "df['total_rev_hi_lim'].fillna(df['total_rev_hi_lim'].median(),inplace=True)\n",
    "df['collections_12_mths_ex_med'].fillna(df['collections_12_mths_ex_med'].median(),inplace=True)\n",
    "df[\"revol_util\"].fillna(df[\"revol_util\"].median(), inplace=True)"
   ]
  },
  {
   "cell_type": "code",
   "execution_count": 17,
   "metadata": {},
   "outputs": [
    {
     "data": {
      "text/plain": [
       "debt_consolidation    505392\n",
       "credit_card           200144\n",
       "home_improvement       49956\n",
       "other                  40949\n",
       "major_purchase         16587\n",
       "small_business          9785\n",
       "car                     8593\n",
       "medical                 8193\n",
       "moving                  5160\n",
       "vacation                4542\n",
       "house                   3513\n",
       "wedding                 2280\n",
       "renewable_energy         549\n",
       "educational              326\n",
       "Name: purpose, dtype: int64"
      ]
     },
     "execution_count": 17,
     "metadata": {},
     "output_type": "execute_result"
    }
   ],
   "source": [
    "df[\"purpose\"].value_counts()"
   ]
  },
  {
   "cell_type": "code",
   "execution_count": 19,
   "metadata": {},
   "outputs": [
    {
     "data": {
      "text/plain": [
       "(855969, 44)"
      ]
     },
     "execution_count": 19,
     "metadata": {},
     "output_type": "execute_result"
    }
   ],
   "source": [
    "df=df.drop([\"emp_title\",\"title\",\"next_pymnt_d\"],axis=1)\n",
    "df.shape"
   ]
  },
  {
   "cell_type": "code",
   "execution_count": 20,
   "metadata": {},
   "outputs": [],
   "source": [
    "#3 VARIABLES HAVE BEEN ELIMINATED.\n",
    "#emp_title-->job title of the customer, not useful for analysis.\n",
    "#title-->purpose & title almost contain same data,\n",
    "#causing redundancy to the dataset thus title will be elminated since it contains NA's.\n",
    "#next_pymnt_d-->is a date variable, can't be imputed."
   ]
  },
  {
   "cell_type": "code",
   "execution_count": 21,
   "metadata": {},
   "outputs": [
    {
     "data": {
      "text/plain": [
       "10+ years    282090\n",
       "2 years       75986\n",
       "< 1 year      67597\n",
       "3 years       67392\n",
       "1 year        54855\n",
       "5 years       53812\n",
       "4 years       50643\n",
       "7 years       43204\n",
       "8 years       42421\n",
       "6 years       41446\n",
       "9 years       33462\n",
       "Name: emp_length, dtype: int64"
      ]
     },
     "execution_count": 21,
     "metadata": {},
     "output_type": "execute_result"
    }
   ],
   "source": [
    "df[\"emp_length\"].value_counts()"
   ]
  },
  {
   "cell_type": "code",
   "execution_count": 22,
   "metadata": {},
   "outputs": [
    {
     "data": {
      "text/plain": [
       "10.0    282090\n",
       "2.0      75986\n",
       "0.0      67597\n",
       "3.0      67392\n",
       "1.0      54855\n",
       "5.0      53812\n",
       "4.0      50643\n",
       "7.0      43204\n",
       "8.0      42421\n",
       "6.0      41446\n",
       "9.0      33462\n",
       "Name: emp_length, dtype: int64"
      ]
     },
     "execution_count": 22,
     "metadata": {},
     "output_type": "execute_result"
    }
   ],
   "source": [
    "#MAPPING THE EMP_LENGTH INTO NUMERIC VALUES\n",
    "#Creating a dictionary for emp_length\n",
    "emp_dict={\"< 1 year\":0,\"1 year\":1,\"2 years\":2,\"3 years\":3,\"4 years\":4,\"5 years\":5,\n",
    "         \"6 years\":6,\"7 years\":7,\"8 years\":8,\"9 years\":9,\"10+ years\":10}\n",
    "#Mapping the values into emp_length\n",
    "df[\"emp_length\"]=df[\"emp_length\"].map(emp_dict)\n",
    "df[\"emp_length\"].value_counts()"
   ]
  },
  {
   "cell_type": "code",
   "execution_count": 23,
   "metadata": {},
   "outputs": [],
   "source": [
    "#HERE THE NA'S OF EMP_LENGTH CAN BE IMPUTED AS <1 YEAR, SINCE IT CAN MEAN SELF EMPLOYED\n",
    "#Imputing the NA's in emp_length as 0\n",
    "df[\"emp_length\"].fillna(0,inplace=True)"
   ]
  },
  {
   "cell_type": "code",
   "execution_count": 24,
   "metadata": {},
   "outputs": [
    {
     "data": {
      "text/plain": [
       "(855969, 42)"
      ]
     },
     "execution_count": 24,
     "metadata": {},
     "output_type": "execute_result"
    }
   ],
   "source": [
    "#ELIMINATING THE DATE VARIABLES SINCE THEY CAN'T BE IMPUTED\n",
    "df=df.drop([\"last_pymnt_d\",\"last_credit_pull_d\"],axis=1)\n",
    "df.shape"
   ]
  },
  {
   "cell_type": "code",
   "execution_count": 25,
   "metadata": {},
   "outputs": [
    {
     "data": {
      "text/plain": [
       "loan_amnt                     0\n",
       "funded_amnt                   0\n",
       "funded_amnt_inv               0\n",
       "term                          0\n",
       "int_rate                      0\n",
       "installment                   0\n",
       "grade                         0\n",
       "sub_grade                     0\n",
       "emp_length                    0\n",
       "home_ownership                0\n",
       "annual_inc                    0\n",
       "verification_status           0\n",
       "issue_d                       0\n",
       "pymnt_plan                    0\n",
       "purpose                       0\n",
       "dti                           0\n",
       "delinq_2yrs                   0\n",
       "inq_last_6mths                0\n",
       "open_acc                      0\n",
       "pub_rec                       0\n",
       "revol_bal                     0\n",
       "revol_util                    0\n",
       "total_acc                     0\n",
       "initial_list_status           0\n",
       "out_prncp                     0\n",
       "out_prncp_inv                 0\n",
       "total_pymnt                   0\n",
       "total_pymnt_inv               0\n",
       "total_rec_prncp               0\n",
       "total_rec_int                 0\n",
       "total_rec_late_fee            0\n",
       "recoveries                    0\n",
       "collection_recovery_fee       0\n",
       "last_pymnt_amnt               0\n",
       "collections_12_mths_ex_med    0\n",
       "policy_code                   0\n",
       "application_type              0\n",
       "acc_now_delinq                0\n",
       "tot_coll_amt                  0\n",
       "tot_cur_bal                   0\n",
       "total_rev_hi_lim              0\n",
       "default_ind                   0\n",
       "dtype: int64"
      ]
     },
     "execution_count": 25,
     "metadata": {},
     "output_type": "execute_result"
    }
   ],
   "source": [
    "df.isnull().sum()"
   ]
  },
  {
   "cell_type": "code",
   "execution_count": 26,
   "metadata": {},
   "outputs": [
    {
     "data": {
      "text/plain": [
       "\"ALL THE NA'S HAVE BEEN TREATED\""
      ]
     },
     "execution_count": 26,
     "metadata": {},
     "output_type": "execute_result"
    }
   ],
   "source": [
    "'''ALL THE NA'S HAVE BEEN TREATED'''"
   ]
  },
  {
   "cell_type": "code",
   "execution_count": 27,
   "metadata": {},
   "outputs": [
    {
     "name": "stdout",
     "output_type": "stream",
     "text": [
      "['loan_amnt', 'funded_amnt', 'funded_amnt_inv', 'int_rate', 'installment', 'emp_length', 'annual_inc', 'dti', 'delinq_2yrs', 'inq_last_6mths', 'open_acc', 'pub_rec', 'revol_bal', 'revol_util', 'total_acc', 'out_prncp', 'out_prncp_inv', 'total_pymnt', 'total_pymnt_inv', 'total_rec_prncp', 'total_rec_int', 'total_rec_late_fee', 'recoveries', 'collection_recovery_fee', 'last_pymnt_amnt', 'collections_12_mths_ex_med', 'policy_code', 'acc_now_delinq', 'tot_coll_amt', 'tot_cur_bal', 'total_rev_hi_lim', 'default_ind']\n"
     ]
    }
   ],
   "source": [
    "numerical_feature=[]\n",
    "for i in df:\n",
    "    if df[i].dtype!=\"object\":\n",
    "     numerical_feature.append(i)\n",
    "print(numerical_feature)"
   ]
  },
  {
   "cell_type": "code",
   "execution_count": 28,
   "metadata": {},
   "outputs": [
    {
     "data": {
      "image/png": "[encoded data removed]",
      "text/plain": [
       "<Figure size 1440x864 with 2 Axes>"
      ]
     },
     "metadata": {
      "needs_background": "light"
     },
     "output_type": "display_data"
    }
   ],
   "source": [
    "#CHECKING THE COR-RELATION OF THE WHOLE DATA\n",
    "#filter numeric column only \n",
    "data_num = df[numerical_feature]\n",
    "\n",
    "#calculating correlation among numeric variable \n",
    "corr_matrix = data_num.corr() \n",
    "\n",
    "#filter correlation values above 0.5\n",
    "filter_corr = corr_matrix[corr_matrix > 0.5]\n",
    "\n",
    "#plot correlation matrix\n",
    "plt.figure(figsize=(20,12))\n",
    "sns.heatmap(filter_corr,cmap='coolwarm',annot=True);"
   ]
  },
  {
   "cell_type": "code",
   "execution_count": 29,
   "metadata": {},
   "outputs": [
    {
     "data": {
      "text/plain": [
       "1.0    855969\n",
       "Name: policy_code, dtype: int64"
      ]
     },
     "execution_count": 29,
     "metadata": {},
     "output_type": "execute_result"
    }
   ],
   "source": [
    "df[\"policy_code\"].value_counts()"
   ]
  },
  {
   "cell_type": "code",
   "execution_count": 30,
   "metadata": {},
   "outputs": [
    {
     "data": {
      "text/plain": [
       "(855969, 36)"
      ]
     },
     "execution_count": 30,
     "metadata": {},
     "output_type": "execute_result"
    }
   ],
   "source": [
    "#ELIMINATING THE HIGHLY COR-RELATED VARIABLES & SOME UNWANTED VARIABLES SINCE THE CAUSE REDUNDANCY\n",
    "df=df.drop([\"policy_code\",\"sub_grade\",\"funded_amnt\",\"collection_recovery_fee\",\"inq_last_6mths\",\"application_type\"], axis=1)\n",
    "df.shape"
   ]
  },
  {
   "cell_type": "code",
   "execution_count": 31,
   "metadata": {},
   "outputs": [],
   "source": [
    "#6 VARIABLES HAVE BEEN ELIMINATED.\n",
    "#inq_last_6mths-->doesn't conttribute \n",
    "#application_type-->doesn't conttribute \n",
    "#grade & sub_grade have same values so keeping only grade.\n",
    "#policy_code-->has a single value, doesn't contribute to the analysis.\n",
    "#recoveries & collection_recovery_fee almost have same values so keeping only recoveries"
   ]
  },
  {
   "cell_type": "code",
   "execution_count": 32,
   "metadata": {},
   "outputs": [
    {
     "data": {
      "image/png": "[encoded data removed]",
      "text/plain": [
       "<Figure size 1440x1440 with 35 Axes>"
      ]
     },
     "metadata": {
      "needs_background": "light"
     },
     "output_type": "display_data"
    }
   ],
   "source": [
    "#TREATING OUTLIERS\n",
    "df.plot(kind='box', subplots=True, layout=(7,5), sharex=False, sharey=False, figsize=(20,20) )\n",
    "plt.show()"
   ]
  },
  {
   "cell_type": "code",
   "execution_count": 33,
   "metadata": {},
   "outputs": [],
   "source": [
    "#COVERTING THE DATE VARIABLE\n",
    "df['issue_d'] = pd.to_datetime(df['issue_d'])"
   ]
  },
  {
   "cell_type": "code",
   "execution_count": 34,
   "metadata": {},
   "outputs": [
    {
     "name": "stdout",
     "output_type": "stream",
     "text": [
      "['term', 'grade', 'home_ownership', 'verification_status', 'pymnt_plan', 'purpose', 'initial_list_status']\n"
     ]
    }
   ],
   "source": [
    "#CONVERTING CATEGORICAL VARIABLES TO NUMERIC\n",
    "#collecting the categorical variables to perform transformation\n",
    "char_vars=[]\n",
    "for x in df.columns:\n",
    "    if df[x].dtype==\"object\":\n",
    "        char_vars.append(x)\n",
    "print(char_vars)"
   ]
  },
  {
   "cell_type": "code",
   "execution_count": 35,
   "metadata": {},
   "outputs": [],
   "source": [
    "#converting the categorical variables into numeric variables using LabelEncoder()\n",
    "from sklearn import preprocessing\n",
    "#create an object\n",
    "le=preprocessing.LabelEncoder()\n",
    "for x in char_vars:\n",
    "    df[x]=le.fit_transform(df[x]) "
   ]
  },
  {
   "cell_type": "code",
   "execution_count": 36,
   "metadata": {},
   "outputs": [
    {
     "data": {
      "text/plain": [
       "loan_amnt                            float64\n",
       "funded_amnt_inv                      float64\n",
       "term                                   int32\n",
       "int_rate                             float64\n",
       "installment                          float64\n",
       "grade                                  int32\n",
       "emp_length                           float64\n",
       "home_ownership                         int32\n",
       "annual_inc                           float64\n",
       "verification_status                    int32\n",
       "issue_d                       datetime64[ns]\n",
       "pymnt_plan                             int32\n",
       "purpose                                int32\n",
       "dti                                  float64\n",
       "delinq_2yrs                          float64\n",
       "open_acc                             float64\n",
       "pub_rec                              float64\n",
       "revol_bal                            float64\n",
       "revol_util                           float64\n",
       "total_acc                            float64\n",
       "initial_list_status                    int32\n",
       "out_prncp                            float64\n",
       "out_prncp_inv                        float64\n",
       "total_pymnt                          float64\n",
       "total_pymnt_inv                      float64\n",
       "total_rec_prncp                      float64\n",
       "total_rec_int                        float64\n",
       "total_rec_late_fee                   float64\n",
       "recoveries                           float64\n",
       "last_pymnt_amnt                      float64\n",
       "collections_12_mths_ex_med           float64\n",
       "acc_now_delinq                       float64\n",
       "tot_coll_amt                         float64\n",
       "tot_cur_bal                          float64\n",
       "total_rev_hi_lim                     float64\n",
       "default_ind                            int64\n",
       "dtype: object"
      ]
     },
     "execution_count": 36,
     "metadata": {},
     "output_type": "execute_result"
    }
   ],
   "source": [
    "df.dtypes"
   ]
  },
  {
   "cell_type": "code",
   "execution_count": 37,
   "metadata": {},
   "outputs": [],
   "source": [
    "#SPLITTING THE DATASET BASED ON THE DATA VARIABLE\n",
    "split_date = pd.datetime(2015,5,1)"
   ]
  },
  {
   "cell_type": "code",
   "execution_count": 38,
   "metadata": {},
   "outputs": [],
   "source": [
    "#SPLITTING INTO TRAIN & TEST\n",
    "Train = df.loc[df['issue_d']<=split_date]\n",
    "Test = df.loc[df['issue_d']>split_date]"
   ]
  },
  {
   "cell_type": "code",
   "execution_count": 39,
   "metadata": {},
   "outputs": [],
   "source": [
    "#ELIMINATING ISSUE_D SINCE WE DON'T NEED IT\n",
    "Train.drop(columns='issue_d',inplace=True)\n",
    "Test.drop(columns='issue_d',inplace=True)"
   ]
  },
  {
   "cell_type": "code",
   "execution_count": 40,
   "metadata": {},
   "outputs": [],
   "source": [
    "TrainX = Train.drop(columns='default_ind')\n",
    "Y_train = Train['default_ind']"
   ]
  },
  {
   "cell_type": "code",
   "execution_count": 41,
   "metadata": {},
   "outputs": [],
   "source": [
    "TestX = Test.drop(columns='default_ind')\n",
    "Y_test = Test['default_ind']"
   ]
  },
  {
   "cell_type": "code",
   "execution_count": 42,
   "metadata": {},
   "outputs": [],
   "source": [
    "#SCALING THE DATA\n",
    "from sklearn.preprocessing import StandardScaler\n",
    "scaler = StandardScaler()\n",
    "scaler.fit(TrainX)\n",
    "X_train= scaler.transform(TrainX)\n",
    "X_test= scaler.transform(TestX)"
   ]
  },
  {
   "cell_type": "markdown",
   "metadata": {},
   "source": [
    "# MODEL TRAINING & EVALUATION"
   ]
  },
  {
   "cell_type": "markdown",
   "metadata": {},
   "source": [
    "# LOGISTIC REGRESSION"
   ]
  },
  {
   "cell_type": "code",
   "execution_count": 45,
   "metadata": {},
   "outputs": [],
   "source": [
    "#MODEL BUILDING USING LOGISTIC REGRESSION\n",
    "from sklearn.linear_model import LogisticRegression\n",
    "#create the model object\n",
    "lg=LogisticRegression()\n",
    "#train the object\n",
    "lg.fit(X_train,Y_train)\n",
    "#predict\n",
    "Y_pred=lg.predict(X_test)"
   ]
  },
  {
   "cell_type": "code",
   "execution_count": 46,
   "metadata": {},
   "outputs": [
    {
     "name": "stdout",
     "output_type": "stream",
     "text": [
      "[[256627     53]\n",
      " [    63    248]]\n",
      "              precision    recall  f1-score   support\n",
      "\n",
      "           0       1.00      1.00      1.00    256680\n",
      "           1       0.82      0.80      0.81       311\n",
      "\n",
      "    accuracy                           1.00    256991\n",
      "   macro avg       0.91      0.90      0.91    256991\n",
      "weighted avg       1.00      1.00      1.00    256991\n",
      "\n",
      "0.9995486223252954\n"
     ]
    }
   ],
   "source": [
    "#EVALUATION METRICS\n",
    "from sklearn.metrics import confusion_matrix, accuracy_score, classification_report\n",
    "print(confusion_matrix(Y_test,Y_pred))\n",
    "print(classification_report(Y_test,Y_pred))\n",
    "print(accuracy_score(Y_test,Y_pred))"
   ]
  },
  {
   "cell_type": "code",
   "execution_count": 47,
   "metadata": {},
   "outputs": [
    {
     "name": "stdout",
     "output_type": "stream",
     "text": [
      "0.8986105849765018\n"
     ]
    }
   ],
   "source": [
    "#ROC CURVE\n",
    "from sklearn import metrics \n",
    "fpr, tpr, z = metrics.roc_curve(Y_test, Y_pred)\n",
    "auc = metrics.auc(fpr, tpr)\n",
    "print(auc)"
   ]
  },
  {
   "cell_type": "code",
   "execution_count": 48,
   "metadata": {},
   "outputs": [
    {
     "data": {
      "image/png": "[encoded data removed]",
      "text/plain": [
       "<Figure size 432x288 with 1 Axes>"
      ]
     },
     "metadata": {
      "needs_background": "light"
     },
     "output_type": "display_data"
    }
   ],
   "source": [
    "#PLOTTING THE ROC CURVE\n",
    "import matplotlib.pyplot as plt\n",
    "plt.title('Receiver Operating Characteristic')\n",
    "plt.plot(fpr, tpr, 'b', label = auc)\n",
    "plt.legend(loc = 'lower right')\n",
    "plt.plot([0, 1], [0, 1],'r--')\n",
    "plt.xlim([0, 1])\n",
    "plt.ylim([0, 1])\n",
    "plt.xlabel('False Positive Rate')\n",
    "plt.ylabel('True Positive Rate')\n",
    "plt.show()"
   ]
  },
  {
   "cell_type": "code",
   "execution_count": 49,
   "metadata": {},
   "outputs": [
    {
     "name": "stdout",
     "output_type": "stream",
     "text": [
      "[[9.98622342e-01 1.37765832e-03]\n",
      " [9.88029354e-01 1.19706458e-02]\n",
      " [9.91038800e-01 8.96119997e-03]\n",
      " ...\n",
      " [9.95609665e-01 4.39033546e-03]\n",
      " [9.98834324e-01 1.16567604e-03]\n",
      " [9.99488690e-01 5.11309790e-04]]\n"
     ]
    }
   ],
   "source": [
    "#TUNNING LOGISTIC\n",
    "#STORE THE PREDICTED PROBABILITIES\n",
    "y_pred_prob=lg.predict_proba(X_test)\n",
    "print(y_pred_prob)"
   ]
  },
  {
   "cell_type": "code",
   "execution_count": 50,
   "metadata": {},
   "outputs": [
    {
     "name": "stdout",
     "output_type": "stream",
     "text": [
      "Errors at threshold  0.3 : 149  , type 2 error : 63  , type 1 error: 86\n",
      "Errors at threshold  0.31 : 147  , type 2 error : 63  , type 1 error: 84\n",
      "Errors at threshold  0.32 : 144  , type 2 error : 63  , type 1 error: 81\n",
      "Errors at threshold  0.33 : 141  , type 2 error : 63  , type 1 error: 78\n",
      "Errors at threshold  0.34 : 139  , type 2 error : 63  , type 1 error: 76\n",
      "Errors at threshold  0.35000000000000003 : 137  , type 2 error : 63  , type 1 error: 74\n",
      "Errors at threshold  0.36000000000000004 : 132  , type 2 error : 63  , type 1 error: 69\n",
      "Errors at threshold  0.37000000000000005 : 129  , type 2 error : 63  , type 1 error: 66\n",
      "Errors at threshold  0.38000000000000006 : 127  , type 2 error : 63  , type 1 error: 64\n",
      "Errors at threshold  0.39000000000000007 : 126  , type 2 error : 63  , type 1 error: 63\n",
      "Errors at threshold  0.4000000000000001 : 125  , type 2 error : 63  , type 1 error: 62\n",
      "Errors at threshold  0.4100000000000001 : 123  , type 2 error : 63  , type 1 error: 60\n",
      "Errors at threshold  0.4200000000000001 : 121  , type 2 error : 63  , type 1 error: 58\n",
      "Errors at threshold  0.4300000000000001 : 120  , type 2 error : 63  , type 1 error: 57\n",
      "Errors at threshold  0.4400000000000001 : 119  , type 2 error : 63  , type 1 error: 56\n",
      "Errors at threshold  0.4500000000000001 : 118  , type 2 error : 63  , type 1 error: 55\n",
      "Errors at threshold  0.46000000000000013 : 116  , type 2 error : 63  , type 1 error: 53\n",
      "Errors at threshold  0.47000000000000014 : 116  , type 2 error : 63  , type 1 error: 53\n",
      "Errors at threshold  0.48000000000000015 : 116  , type 2 error : 63  , type 1 error: 53\n",
      "Errors at threshold  0.49000000000000016 : 116  , type 2 error : 63  , type 1 error: 53\n",
      "Errors at threshold  0.5000000000000002 : 116  , type 2 error : 63  , type 1 error: 53\n",
      "Errors at threshold  0.5100000000000002 : 115  , type 2 error : 63  , type 1 error: 52\n",
      "Errors at threshold  0.5200000000000002 : 114  , type 2 error : 63  , type 1 error: 51\n",
      "Errors at threshold  0.5300000000000002 : 114  , type 2 error : 63  , type 1 error: 51\n",
      "Errors at threshold  0.5400000000000003 : 113  , type 2 error : 63  , type 1 error: 50\n",
      "Errors at threshold  0.5500000000000003 : 112  , type 2 error : 63  , type 1 error: 49\n",
      "Errors at threshold  0.5600000000000003 : 112  , type 2 error : 63  , type 1 error: 49\n",
      "Errors at threshold  0.5700000000000003 : 111  , type 2 error : 63  , type 1 error: 48\n",
      "Errors at threshold  0.5800000000000003 : 108  , type 2 error : 63  , type 1 error: 45\n",
      "Errors at threshold  0.5900000000000003 : 108  , type 2 error : 63  , type 1 error: 45\n",
      "Errors at threshold  0.6000000000000003 : 107  , type 2 error : 63  , type 1 error: 44\n",
      "Errors at threshold  0.6100000000000003 : 107  , type 2 error : 63  , type 1 error: 44\n",
      "Errors at threshold  0.6200000000000003 : 107  , type 2 error : 63  , type 1 error: 44\n",
      "Errors at threshold  0.6300000000000003 : 107  , type 2 error : 63  , type 1 error: 44\n",
      "Errors at threshold  0.6400000000000003 : 107  , type 2 error : 63  , type 1 error: 44\n",
      "Errors at threshold  0.6500000000000004 : 108  , type 2 error : 64  , type 1 error: 44\n",
      "Errors at threshold  0.6600000000000004 : 108  , type 2 error : 64  , type 1 error: 44\n",
      "Errors at threshold  0.6700000000000004 : 105  , type 2 error : 64  , type 1 error: 41\n",
      "Errors at threshold  0.6800000000000004 : 103  , type 2 error : 64  , type 1 error: 39\n",
      "Errors at threshold  0.6900000000000004 : 103  , type 2 error : 64  , type 1 error: 39\n",
      "Errors at threshold  0.7000000000000004 : 103  , type 2 error : 64  , type 1 error: 39\n",
      "Errors at threshold  0.7100000000000004 : 103  , type 2 error : 64  , type 1 error: 39\n",
      "Errors at threshold  0.7200000000000004 : 101  , type 2 error : 64  , type 1 error: 37\n",
      "Errors at threshold  0.7300000000000004 : 101  , type 2 error : 64  , type 1 error: 37\n",
      "Errors at threshold  0.7400000000000004 : 100  , type 2 error : 64  , type 1 error: 36\n",
      "Errors at threshold  0.7500000000000004 : 98  , type 2 error : 64  , type 1 error: 34\n",
      "Errors at threshold  0.7600000000000005 : 97  , type 2 error : 64  , type 1 error: 33\n",
      "Errors at threshold  0.7700000000000005 : 97  , type 2 error : 64  , type 1 error: 33\n",
      "Errors at threshold  0.7800000000000005 : 95  , type 2 error : 64  , type 1 error: 31\n",
      "Errors at threshold  0.7900000000000005 : 94  , type 2 error : 64  , type 1 error: 30\n",
      "Errors at threshold  0.8000000000000005 : 93  , type 2 error : 64  , type 1 error: 29\n",
      "Errors at threshold  0.8100000000000005 : 95  , type 2 error : 66  , type 1 error: 29\n",
      "Errors at threshold  0.8200000000000005 : 94  , type 2 error : 66  , type 1 error: 28\n",
      "Errors at threshold  0.8300000000000005 : 94  , type 2 error : 66  , type 1 error: 28\n",
      "Errors at threshold  0.8400000000000005 : 93  , type 2 error : 66  , type 1 error: 27\n",
      "Errors at threshold  0.8500000000000005 : 93  , type 2 error : 66  , type 1 error: 27\n",
      "Errors at threshold  0.8600000000000005 : 93  , type 2 error : 66  , type 1 error: 27\n",
      "Errors at threshold  0.8700000000000006 : 92  , type 2 error : 66  , type 1 error: 26\n",
      "Errors at threshold  0.8800000000000006 : 92  , type 2 error : 66  , type 1 error: 26\n",
      "Errors at threshold  0.8900000000000006 : 91  , type 2 error : 66  , type 1 error: 25\n",
      "Errors at threshold  0.9000000000000006 : 91  , type 2 error : 66  , type 1 error: 25\n"
     ]
    }
   ],
   "source": [
    "for a in np.arange(0.3,0.9,0.01):\n",
    "    predict_mine = np.where(y_pred_prob[:,1] > a, 1, 0)\n",
    "    cfm=confusion_matrix(Y_test, predict_mine)\n",
    "    total_err=cfm[0,1]+cfm[1,0]\n",
    "    print(\"Errors at threshold \", a, \":\",total_err, \" , type 2 error :\",\n",
    "            cfm[1,0],\" , type 1 error:\", cfm[0,1])"
   ]
  },
  {
   "cell_type": "code",
   "execution_count": 51,
   "metadata": {},
   "outputs": [],
   "source": [
    "#HERE WE CAN SEE THAT 0.63 IS THE BEST THRESHOLD\n",
    "y_pred_class=[]\n",
    "for value in y_pred_prob[:,1]:\n",
    "    if value > 0.63:\n",
    "        y_pred_class.append(1)\n",
    "    else:\n",
    "        y_pred_class.append(0)\n",
    "#print(y_pred_class)"
   ]
  },
  {
   "cell_type": "code",
   "execution_count": 52,
   "metadata": {},
   "outputs": [
    {
     "name": "stdout",
     "output_type": "stream",
     "text": [
      "[[256636     44]\n",
      " [    63    248]]\n",
      "Classification report: \n",
      "              precision    recall  f1-score   support\n",
      "\n",
      "           0       1.00      1.00      1.00    256680\n",
      "           1       0.85      0.80      0.82       311\n",
      "\n",
      "    accuracy                           1.00    256991\n",
      "   macro avg       0.92      0.90      0.91    256991\n",
      "weighted avg       1.00      1.00      1.00    256991\n",
      "\n",
      "Accuracy of the model:  0.9995836430069536\n"
     ]
    }
   ],
   "source": [
    "#EVALUATION METRICS AFTER TUNNING\n",
    "cfm=confusion_matrix(Y_test, y_pred_class)\n",
    "print(cfm)\n",
    "print('Classification report: ')\n",
    "print(classification_report(Y_test,y_pred_class))\n",
    "acc= accuracy_score(Y_test, y_pred_class)\n",
    "print(\"Accuracy of the model: \", acc)"
   ]
  },
  {
   "cell_type": "code",
   "execution_count": 53,
   "metadata": {},
   "outputs": [
    {
     "name": "stdout",
     "output_type": "stream",
     "text": [
      "0.8986105849765018\n"
     ]
    }
   ],
   "source": [
    "#ROC CURVE\n",
    "from sklearn import metrics \n",
    "fpr, tpr, z = metrics.roc_curve(Y_test, Y_pred)\n",
    "auc = metrics.auc(fpr, tpr)\n",
    "print(auc)"
   ]
  },
  {
   "cell_type": "code",
   "execution_count": 54,
   "metadata": {},
   "outputs": [
    {
     "data": {
      "image/png": "[encoded data removed]",
      "text/plain": [
       "<Figure size 432x288 with 1 Axes>"
      ]
     },
     "metadata": {
      "needs_background": "light"
     },
     "output_type": "display_data"
    }
   ],
   "source": [
    "#PLOTTING THE ROC CURVE\n",
    "import matplotlib.pyplot as plt\n",
    "plt.title('Receiver Operating Characteristic')\n",
    "plt.plot(fpr, tpr, 'b', label = auc)\n",
    "plt.legend(loc = 'lower right')\n",
    "plt.plot([0, 1], [0, 1],'r--')\n",
    "plt.xlim([0, 1])\n",
    "plt.ylim([0, 1])\n",
    "plt.xlabel('False Positive Rate')\n",
    "plt.ylabel('True Positive Rate')\n",
    "plt.show()"
   ]
  },
  {
   "cell_type": "markdown",
   "metadata": {},
   "source": [
    "# DECISION TREE"
   ]
  },
  {
   "cell_type": "code",
   "execution_count": 55,
   "metadata": {},
   "outputs": [
    {
     "data": {
      "text/plain": [
       "DecisionTreeClassifier(class_weight=None, criterion='gini', max_depth=None,\n",
       "                       max_features=None, max_leaf_nodes=None,\n",
       "                       min_impurity_decrease=0.0, min_impurity_split=None,\n",
       "                       min_samples_leaf=1, min_samples_split=2,\n",
       "                       min_weight_fraction_leaf=0.0, presort=False,\n",
       "                       random_state=10, splitter='best')"
      ]
     },
     "execution_count": 55,
     "metadata": {},
     "output_type": "execute_result"
    }
   ],
   "source": [
    "#MODEL BUILDING USING DECISION TREE\n",
    "from sklearn.tree import DecisionTreeClassifier\n",
    "model_DT=DecisionTreeClassifier(criterion=\"gini\",random_state=10)\n",
    "##Train the model\n",
    "model_DT.fit(X_train,Y_train)"
   ]
  },
  {
   "cell_type": "code",
   "execution_count": 56,
   "metadata": {},
   "outputs": [
    {
     "name": "stdout",
     "output_type": "stream",
     "text": [
      "[[256627     53]\n",
      " [    63    248]]\n",
      "              precision    recall  f1-score   support\n",
      "\n",
      "           0       1.00      1.00      1.00    256680\n",
      "           1       0.82      0.80      0.81       311\n",
      "\n",
      "    accuracy                           1.00    256991\n",
      "   macro avg       0.91      0.90      0.91    256991\n",
      "weighted avg       1.00      1.00      1.00    256991\n",
      "\n",
      "0.9995486223252954\n"
     ]
    }
   ],
   "source": [
    "#EVALUATION METRICS\n",
    "from sklearn.metrics import confusion_matrix, accuracy_score, classification_report\n",
    "print(confusion_matrix(Y_test,Y_pred))\n",
    "print(classification_report(Y_test,Y_pred))\n",
    "print(accuracy_score(Y_test,Y_pred))"
   ]
  },
  {
   "cell_type": "code",
   "execution_count": 57,
   "metadata": {},
   "outputs": [
    {
     "name": "stdout",
     "output_type": "stream",
     "text": [
      "0.8986105849765018\n"
     ]
    }
   ],
   "source": [
    "#ROC CURVE\n",
    "from sklearn import metrics \n",
    "fpr, tpr, z = metrics.roc_curve(Y_test, Y_pred)\n",
    "auc = metrics.auc(fpr, tpr)\n",
    "print(auc)"
   ]
  },
  {
   "cell_type": "code",
   "execution_count": 58,
   "metadata": {},
   "outputs": [
    {
     "data": {
      "image/png": "[encoded data removed]",
      "text/plain": [
       "<Figure size 432x288 with 1 Axes>"
      ]
     },
     "metadata": {
      "needs_background": "light"
     },
     "output_type": "display_data"
    }
   ],
   "source": [
    "#PLOTTING THE ROC CURVE\n",
    "import matplotlib.pyplot as plt\n",
    "plt.title('Receiver Operating Characteristic')\n",
    "plt.plot(fpr, tpr, 'b', label = auc)\n",
    "plt.legend(loc = 'lower right')\n",
    "plt.plot([0, 1], [0, 1],'r--')\n",
    "plt.xlim([0, 1])\n",
    "plt.ylim([0, 1])\n",
    "plt.xlabel('False Positive Rate')\n",
    "plt.ylabel('True Positive Rate')\n",
    "\n",
    "plt.show()"
   ]
  },
  {
   "cell_type": "code",
   "execution_count": 59,
   "metadata": {},
   "outputs": [],
   "source": [
    "#MODEL BUILDING USING PRUNED DECISION TREE AFTER VARIOUS NUMBER OF ITERATIONS\n",
    "from sklearn.tree import DecisionTreeClassifier\n",
    "dt=DecisionTreeClassifier(criterion=\"gini\",random_state=10,max_depth=15,min_samples_leaf=120)\n",
    "dt.fit(X_train,Y_train)\n",
    "Y_pred=dt.predict(X_test)"
   ]
  },
  {
   "cell_type": "code",
   "execution_count": 60,
   "metadata": {},
   "outputs": [
    {
     "name": "stdout",
     "output_type": "stream",
     "text": [
      "[[256676      4]\n",
      " [    63    248]]\n",
      "              precision    recall  f1-score   support\n",
      "\n",
      "           0       1.00      1.00      1.00    256680\n",
      "           1       0.98      0.80      0.88       311\n",
      "\n",
      "    accuracy                           1.00    256991\n",
      "   macro avg       0.99      0.90      0.94    256991\n",
      "weighted avg       1.00      1.00      1.00    256991\n",
      "\n",
      "0.9997392904809896\n"
     ]
    }
   ],
   "source": [
    "#EVALUATION METRICS\n",
    "from sklearn.metrics import confusion_matrix, accuracy_score, classification_report\n",
    "print(confusion_matrix(Y_test,Y_pred))\n",
    "print(classification_report(Y_test,Y_pred))\n",
    "print(accuracy_score(Y_test,Y_pred))"
   ]
  },
  {
   "cell_type": "code",
   "execution_count": 61,
   "metadata": {},
   "outputs": [
    {
     "name": "stdout",
     "output_type": "stream",
     "text": [
      "0.8987060345635363\n"
     ]
    }
   ],
   "source": [
    "#ROC CURVE\n",
    "from sklearn import metrics \n",
    "fpr, tpr, z = metrics.roc_curve(Y_test, Y_pred)\n",
    "auc = metrics.auc(fpr, tpr)\n",
    "print(auc)"
   ]
  },
  {
   "cell_type": "code",
   "execution_count": 62,
   "metadata": {},
   "outputs": [
    {
     "data": {
      "image/png": "[encoded data removed]",
      "text/plain": [
       "<Figure size 432x288 with 1 Axes>"
      ]
     },
     "metadata": {
      "needs_background": "light"
     },
     "output_type": "display_data"
    }
   ],
   "source": [
    "#PLOTTING THE ROC CURVE\n",
    "import matplotlib.pyplot as plt\n",
    "plt.title('Receiver Operating Characteristic')\n",
    "plt.plot(fpr, tpr, 'b', label = auc)\n",
    "plt.legend(loc = 'lower right')\n",
    "plt.plot([0, 1], [0, 1],'r--')\n",
    "plt.xlim([0, 1])\n",
    "plt.ylim([0, 1])\n",
    "plt.xlabel('False Positive Rate')\n",
    "plt.ylabel('True Positive Rate')\n",
    "plt.show()"
   ]
  },
  {
   "cell_type": "markdown",
   "metadata": {},
   "source": [
    "# BAGGING"
   ]
  },
  {
   "cell_type": "code",
   "execution_count": 63,
   "metadata": {},
   "outputs": [],
   "source": [
    "#MODEL BUILDING USING EXTRA TREE CLASSIFIER\n",
    "from sklearn.ensemble import ExtraTreesClassifier\n",
    "model=ExtraTreesClassifier(100,random_state=10,max_depth=15, min_samples_leaf=120)\n",
    "#fit the model on the data and predict the values\n",
    "model=model.fit(X_train,Y_train)\n",
    "Y_pred=model.predict(X_test)"
   ]
  },
  {
   "cell_type": "code",
   "execution_count": 64,
   "metadata": {},
   "outputs": [
    {
     "name": "stdout",
     "output_type": "stream",
     "text": [
      "[[256671      9]\n",
      " [   108    203]]\n",
      "              precision    recall  f1-score   support\n",
      "\n",
      "           0       1.00      1.00      1.00    256680\n",
      "           1       0.96      0.65      0.78       311\n",
      "\n",
      "    accuracy                           1.00    256991\n",
      "   macro avg       0.98      0.83      0.89    256991\n",
      "weighted avg       1.00      1.00      1.00    256991\n",
      "\n",
      "0.9995447311384446\n"
     ]
    }
   ],
   "source": [
    "#EVALUATION METRICS\n",
    "from sklearn.metrics import confusion_matrix, accuracy_score, classification_report\n",
    "print(confusion_matrix(Y_test,Y_pred))\n",
    "print(classification_report(Y_test,Y_pred))\n",
    "print(accuracy_score(Y_test,Y_pred))"
   ]
  },
  {
   "cell_type": "code",
   "execution_count": 65,
   "metadata": {},
   "outputs": [
    {
     "name": "stdout",
     "output_type": "stream",
     "text": [
      "0.8263490279287283\n"
     ]
    }
   ],
   "source": [
    "#ROC CURVE\n",
    "from sklearn import metrics \n",
    "fpr, tpr, z = metrics.roc_curve(Y_test, Y_pred)\n",
    "auc = metrics.auc(fpr, tpr)\n",
    "print(auc)"
   ]
  },
  {
   "cell_type": "code",
   "execution_count": 66,
   "metadata": {},
   "outputs": [
    {
     "data": {
      "image/png": "[encoded data removed]",
      "text/plain": [
       "<Figure size 432x288 with 1 Axes>"
      ]
     },
     "metadata": {
      "needs_background": "light"
     },
     "output_type": "display_data"
    }
   ],
   "source": [
    "#PLOTTING THE ROC CURVE\n",
    "import matplotlib.pyplot as plt\n",
    "plt.title('Receiver Operating Characteristic')\n",
    "plt.plot(fpr, tpr, 'b', label = auc)\n",
    "plt.legend(loc = 'lower right')\n",
    "plt.plot([0, 1], [0, 1],'r--')\n",
    "plt.xlim([0, 1])\n",
    "plt.ylim([0, 1])\n",
    "plt.xlabel('False Positive Rate')\n",
    "plt.ylabel('True Positive Rate')\n",
    "plt.show()"
   ]
  },
  {
   "cell_type": "code",
   "execution_count": 67,
   "metadata": {},
   "outputs": [],
   "source": [
    "# MODEL BUILDING USING RANDOM FOREST\n",
    "from sklearn.ensemble import RandomForestClassifier\n",
    "model_RandomForest=RandomForestClassifier(n_estimators=101,random_state=10)\n",
    "#fit the model on the data and predict the values\n",
    "model_RandomForest.fit(X_train,Y_train)\n",
    "Y_pred=model_RandomForest.predict(X_test)"
   ]
  },
  {
   "cell_type": "code",
   "execution_count": 68,
   "metadata": {},
   "outputs": [
    {
     "name": "stdout",
     "output_type": "stream",
     "text": [
      "[[ 94164 162516]\n",
      " [     1    310]]\n",
      "              precision    recall  f1-score   support\n",
      "\n",
      "           0       1.00      0.37      0.54    256680\n",
      "           1       0.00      1.00      0.00       311\n",
      "\n",
      "    accuracy                           0.37    256991\n",
      "   macro avg       0.50      0.68      0.27    256991\n",
      "weighted avg       1.00      0.37      0.54    256991\n",
      "\n",
      "0.36761598655205824\n"
     ]
    }
   ],
   "source": [
    "#EVALUATION METRICS\n",
    "from sklearn.metrics import confusion_matrix, accuracy_score, classification_report\n",
    "print(confusion_matrix(Y_test,Y_pred))\n",
    "print(classification_report(Y_test,Y_pred))\n",
    "print(accuracy_score(Y_test,Y_pred))"
   ]
  },
  {
   "cell_type": "code",
   "execution_count": 69,
   "metadata": {},
   "outputs": [
    {
     "name": "stdout",
     "output_type": "stream",
     "text": [
      "0.6818191179278114\n"
     ]
    }
   ],
   "source": [
    "#ROC CURVE\n",
    "from sklearn import metrics \n",
    "fpr, tpr, z = metrics.roc_curve(Y_test, Y_pred)\n",
    "auc = metrics.auc(fpr, tpr)\n",
    "print(auc)"
   ]
  },
  {
   "cell_type": "code",
   "execution_count": 70,
   "metadata": {},
   "outputs": [
    {
     "data": {
      "image/png": "[encoded data removed]",
      "text/plain": [
       "<Figure size 432x288 with 1 Axes>"
      ]
     },
     "metadata": {
      "needs_background": "light"
     },
     "output_type": "display_data"
    }
   ],
   "source": [
    "#PLOTTING THE ROC CURVE\n",
    "import matplotlib.pyplot as plt\n",
    "plt.title('Receiver Operating Characteristic')\n",
    "plt.plot(fpr, tpr, 'b', label = auc)\n",
    "plt.legend(loc = 'lower right')\n",
    "plt.plot([0, 1], [0, 1],'r--')\n",
    "plt.xlim([0, 1])\n",
    "plt.ylim([0, 1])\n",
    "plt.xlabel('False Positive Rate')\n",
    "plt.ylabel('True Positive Rate')\n",
    "plt.show()"
   ]
  },
  {
   "cell_type": "code",
   "execution_count": 71,
   "metadata": {},
   "outputs": [
    {
     "data": {
      "text/plain": [
       "array([4.51837069e-02, 6.05907333e-02, 6.76303703e-03, 1.08632323e-02,\n",
       "       4.37649657e-02, 5.69525056e-03, 9.67598586e-04, 4.66896422e-04,\n",
       "       2.63020460e-03, 1.17859382e-03, 0.00000000e+00, 1.23074277e-03,\n",
       "       3.43268858e-03, 5.00382578e-04, 1.69934504e-03, 3.67563403e-04,\n",
       "       3.37324058e-03, 2.60885497e-03, 1.84829534e-03, 1.97318708e-03,\n",
       "       8.45745438e-02, 7.81713795e-02, 6.26510344e-02, 5.08133553e-02,\n",
       "       1.48267026e-01, 1.94710410e-02, 8.15126815e-03, 2.62874657e-01,\n",
       "       7.98803750e-02, 5.29162729e-05, 2.28503760e-05, 6.48563901e-04,\n",
       "       4.20455551e-03, 5.07791365e-03])"
      ]
     },
     "execution_count": 71,
     "metadata": {},
     "output_type": "execute_result"
    }
   ],
   "source": [
    "model_RandomForest.feature_importances_"
   ]
  },
  {
   "cell_type": "code",
   "execution_count": 72,
   "metadata": {},
   "outputs": [],
   "source": [
    "features_imp_RF = pd.DataFrame(model_RandomForest.feature_importances_, TrainX.columns)\n",
    "features_imp_RF.columns = ['Values']"
   ]
  },
  {
   "cell_type": "code",
   "execution_count": 78,
   "metadata": {},
   "outputs": [
    {
     "data": {
      "text/plain": [
       "<matplotlib.axes._subplots.AxesSubplot at 0x22b42929e08>"
      ]
     },
     "execution_count": 78,
     "metadata": {},
     "output_type": "execute_result"
    },
    {
     "data": {
      "image/png": "[encoded data removed]",
      "text/plain": [
       "<Figure size 864x576 with 1 Axes>"
      ]
     },
     "metadata": {
      "needs_background": "light"
     },
     "output_type": "display_data"
    }
   ],
   "source": [
    "features_imp_RF.sort_values(by='Values', ascending=False).plot(kind='bar', figsize=(12,8))"
   ]
  },
  {
   "cell_type": "markdown",
   "metadata": {},
   "source": [
    "# BOOSTING"
   ]
  },
  {
   "cell_type": "code",
   "execution_count": 66,
   "metadata": {},
   "outputs": [],
   "source": [
    "#MODEL BUILDING USING GRADIENT BOOST\n",
    "from sklearn.ensemble import GradientBoostingClassifier\n",
    "model_GradientBoosting=GradientBoostingClassifier(n_estimators=150,random_state=10)#default n_estimators=100\n",
    "#fit the model on the data and predict the values\n",
    "model_GradientBoosting.fit(X_train,Y_train)\n",
    "Y_pred=model_GradientBoosting.predict(X_test)"
   ]
  },
  {
   "cell_type": "code",
   "execution_count": 67,
   "metadata": {},
   "outputs": [
    {
     "name": "stdout",
     "output_type": "stream",
     "text": [
      "[[116523 140157]\n",
      " [     3    308]]\n",
      "              precision    recall  f1-score   support\n",
      "\n",
      "           0       1.00      0.45      0.62    256680\n",
      "           1       0.00      0.99      0.00       311\n",
      "\n",
      "    accuracy                           0.45    256991\n",
      "   macro avg       0.50      0.72      0.31    256991\n",
      "weighted avg       1.00      0.45      0.62    256991\n",
      "\n",
      "0.4546112509776607\n"
     ]
    }
   ],
   "source": [
    "#EVALUATION METRICS\n",
    "from sklearn.metrics import confusion_matrix, accuracy_score, classification_report\n",
    "print(confusion_matrix(Y_test,Y_pred))\n",
    "print(classification_report(Y_test,Y_pred))\n",
    "print(accuracy_score(Y_test,Y_pred))"
   ]
  },
  {
   "cell_type": "code",
   "execution_count": 68,
   "metadata": {},
   "outputs": [
    {
     "name": "stdout",
     "output_type": "stream",
     "text": [
      "0.7221579147932515\n"
     ]
    }
   ],
   "source": [
    "#ROC CURVE\n",
    "from sklearn import metrics \n",
    "fpr, tpr, z = metrics.roc_curve(Y_test, Y_pred)\n",
    "auc = metrics.auc(fpr, tpr)\n",
    "print(auc)"
   ]
  },
  {
   "cell_type": "code",
   "execution_count": 69,
   "metadata": {},
   "outputs": [
    {
     "data": {
      "image/png": "[encoded data removed]",
      "text/plain": [
       "<Figure size 432x288 with 1 Axes>"
      ]
     },
     "metadata": {
      "needs_background": "light"
     },
     "output_type": "display_data"
    }
   ],
   "source": [
    "#PLOTTING OF THE ROC CURVE\n",
    "import matplotlib.pyplot as plt\n",
    "plt.title('Receiver Operating Characteristic')\n",
    "plt.plot(fpr, tpr, 'b', label = auc)\n",
    "plt.legend(loc = 'lower right')\n",
    "plt.plot([0, 1], [0, 1],'r--')\n",
    "plt.xlim([0, 1])\n",
    "plt.ylim([0, 1])\n",
    "plt.xlabel('False Positive Rate')\n",
    "plt.ylabel('True Positive Rate')\n",
    "plt.show()"
   ]
  },
  {
   "cell_type": "code",
   "execution_count": 205,
   "metadata": {},
   "outputs": [],
   "source": []
  },
  {
   "cell_type": "code",
   "execution_count": 79,
   "metadata": {},
   "outputs": [],
   "source": [
    "#MODEL BUILDING USING ADA BOOST\n",
    "from sklearn.ensemble import AdaBoostClassifier\n",
    "model_AdaBoost=AdaBoostClassifier()\n",
    "#fit the model on the data and predict the values\n",
    "model_AdaBoost.fit(X_train,Y_train)\n",
    "Y_pred=model_AdaBoost.predict(X_test)"
   ]
  },
  {
   "cell_type": "code",
   "execution_count": 80,
   "metadata": {},
   "outputs": [
    {
     "name": "stdout",
     "output_type": "stream",
     "text": [
      "[[246847   9833]\n",
      " [    61    250]]\n",
      "              precision    recall  f1-score   support\n",
      "\n",
      "           0       1.00      0.96      0.98    256680\n",
      "           1       0.02      0.80      0.05       311\n",
      "\n",
      "    accuracy                           0.96    256991\n",
      "   macro avg       0.51      0.88      0.51    256991\n",
      "weighted avg       1.00      0.96      0.98    256991\n",
      "\n",
      "0.9615005972971816\n"
     ]
    }
   ],
   "source": [
    "#EVALUATION METRICS\n",
    "from sklearn.metrics import confusion_matrix, accuracy_score, classification_report\n",
    "print(confusion_matrix(Y_test,Y_pred))\n",
    "print(classification_report(Y_test,Y_pred))\n",
    "print(accuracy_score(Y_test,Y_pred))"
   ]
  },
  {
   "cell_type": "code",
   "execution_count": 81,
   "metadata": {},
   "outputs": [
    {
     "name": "stdout",
     "output_type": "stream",
     "text": [
      "0.8827750606683312\n"
     ]
    }
   ],
   "source": [
    "#ROC CURVE\n",
    "from sklearn import metrics \n",
    "fpr, tpr, z = metrics.roc_curve(Y_test, Y_pred)\n",
    "auc = metrics.auc(fpr, tpr)\n",
    "print(auc)"
   ]
  },
  {
   "cell_type": "code",
   "execution_count": 73,
   "metadata": {},
   "outputs": [
    {
     "data": {
      "image/png": "[encoded data removed]",
      "text/plain": [
       "<Figure size 432x288 with 1 Axes>"
      ]
     },
     "metadata": {
      "needs_background": "light"
     },
     "output_type": "display_data"
    }
   ],
   "source": [
    "#PLOTTING THE ROC CURVE\n",
    "import matplotlib.pyplot as plt\n",
    "plt.title('Receiver Operating Characteristic')\n",
    "plt.plot(fpr, tpr, 'b', label = auc)\n",
    "plt.legend(loc = 'lower right')\n",
    "plt.plot([0, 1], [0, 1],'r--')\n",
    "plt.xlim([0, 1])\n",
    "plt.ylim([0, 1])\n",
    "plt.xlabel('False Positive Rate')\n",
    "plt.ylabel('True Positive Rate')\n",
    "plt.show()"
   ]
  },
  {
   "cell_type": "code",
   "execution_count": 82,
   "metadata": {},
   "outputs": [
    {
     "data": {
      "text/plain": [
       "array([0.08, 0.  , 0.  , 0.04, 0.18, 0.02, 0.  , 0.  , 0.  , 0.02, 0.  ,\n",
       "       0.  , 0.  , 0.  , 0.  , 0.  , 0.  , 0.  , 0.  , 0.  , 0.16, 0.06,\n",
       "       0.02, 0.  , 0.28, 0.02, 0.02, 0.02, 0.06, 0.  , 0.  , 0.  , 0.  ,\n",
       "       0.02])"
      ]
     },
     "execution_count": 82,
     "metadata": {},
     "output_type": "execute_result"
    }
   ],
   "source": [
    "model_AdaBoost.feature_importances_"
   ]
  },
  {
   "cell_type": "code",
   "execution_count": 84,
   "metadata": {},
   "outputs": [],
   "source": [
    "ada_feature_imp = pd.DataFrame(model_AdaBoost.feature_importances_, TrainX.columns)\n",
    "ada_feature_imp.columns = ['Feature_imp']"
   ]
  },
  {
   "cell_type": "code",
   "execution_count": 86,
   "metadata": {},
   "outputs": [
    {
     "data": {
      "text/plain": [
       "<matplotlib.axes._subplots.AxesSubplot at 0x22b49051f88>"
      ]
     },
     "execution_count": 86,
     "metadata": {},
     "output_type": "execute_result"
    },
    {
     "data": {
      "image/png": "[encoded data removed]",
      "text/plain": [
       "<Figure size 864x576 with 1 Axes>"
      ]
     },
     "metadata": {
      "needs_background": "light"
     },
     "output_type": "display_data"
    }
   ],
   "source": [
    "ada_feature_imp.sort_values(by=\"Feature_imp\", ascending=False).plot(kind='bar', figsize=(12,8))"
   ]
  },
  {
   "cell_type": "code",
   "execution_count": null,
   "metadata": {},
   "outputs": [],
   "source": []
  }
 ],
 "metadata": {
  "kernelspec": {
   "display_name": "Python 3",
   "language": "python",
   "name": "python3"
  },
  "language_info": {
   "codemirror_mode": {
    "name": "ipython",
    "version": 3
   },
   "file_extension": ".py",
   "mimetype": "text/x-python",
   "name": "python",
   "nbconvert_exporter": "python",
   "pygments_lexer": "ipython3",
   "version": "3.7.6"
  }
 },
 "nbformat": 4,
 "nbformat_minor": 2
}
